{
 "cells": [
  {
   "cell_type": "markdown",
   "id": "99332359",
   "metadata": {},
   "source": [
    "#  <center>  IPL Analysis (2008-2022) </center>\n"
   ]
  },
  {
   "cell_type": "markdown",
   "id": "7454c5d3",
   "metadata": {},
   "source": [
    "<img src='IPL_image.jpg' />"
   ]
  },
  {
   "cell_type": "code",
   "execution_count": 1,
   "id": "d345104a",
   "metadata": {},
   "outputs": [],
   "source": [
    "# importing the required libraries\n",
    "import numpy as np \n",
    "import pandas as pd\n",
    "import matplotlib.pyplot as plt\n",
    "import seaborn as sns"
   ]
  },
  {
   "cell_type": "code",
   "execution_count": 2,
   "id": "c05d772b",
   "metadata": {},
   "outputs": [],
   "source": [
    "# loading the datasets\n",
    "matches = pd.read_csv('IPL_Matches_2022_2008.csv',index_col=0)\n",
    "delivery = pd.read_csv('IPL_Ball_by_Ball_2022_2008.csv',index_col=0)\n",
    "df = matches.merge(delivery, on ='ID')"
   ]
  },
  {
   "cell_type": "code",
   "execution_count": 3,
   "id": "7c039931",
   "metadata": {},
   "outputs": [
    {
     "data": {
      "text/html": [
       "<div>\n",
       "<style scoped>\n",
       "    .dataframe tbody tr th:only-of-type {\n",
       "        vertical-align: middle;\n",
       "    }\n",
       "\n",
       "    .dataframe tbody tr th {\n",
       "        vertical-align: top;\n",
       "    }\n",
       "\n",
       "    .dataframe thead th {\n",
       "        text-align: right;\n",
       "    }\n",
       "</style>\n",
       "<table border=\"1\" class=\"dataframe\">\n",
       "  <thead>\n",
       "    <tr style=\"text-align: right;\">\n",
       "      <th></th>\n",
       "      <th>ID</th>\n",
       "      <th>City</th>\n",
       "      <th>Date</th>\n",
       "      <th>Season</th>\n",
       "      <th>MatchNumber</th>\n",
       "      <th>Team1</th>\n",
       "      <th>Team2</th>\n",
       "      <th>Venue</th>\n",
       "      <th>TossWinner</th>\n",
       "      <th>TossDecision</th>\n",
       "      <th>SuperOver</th>\n",
       "      <th>WinningTeam</th>\n",
       "      <th>WonBy</th>\n",
       "      <th>Margin</th>\n",
       "      <th>method</th>\n",
       "      <th>Player_of_Match</th>\n",
       "      <th>Team1Players</th>\n",
       "      <th>Team2Players</th>\n",
       "      <th>Umpire1</th>\n",
       "      <th>Umpire2</th>\n",
       "    </tr>\n",
       "  </thead>\n",
       "  <tbody>\n",
       "    <tr>\n",
       "      <th>0</th>\n",
       "      <td>1312200</td>\n",
       "      <td>Ahmedabad</td>\n",
       "      <td>2022-05-29</td>\n",
       "      <td>2022</td>\n",
       "      <td>Final</td>\n",
       "      <td>Rajasthan Royals</td>\n",
       "      <td>Gujarat Titans</td>\n",
       "      <td>Narendra Modi Stadium</td>\n",
       "      <td>Rajasthan Royals</td>\n",
       "      <td>bat</td>\n",
       "      <td>N</td>\n",
       "      <td>Gujarat Titans</td>\n",
       "      <td>Wickets</td>\n",
       "      <td>7.0</td>\n",
       "      <td>NaN</td>\n",
       "      <td>HH Pandya</td>\n",
       "      <td>['YBK Jaiswal', 'JC Buttler', 'SV Samson', 'D ...</td>\n",
       "      <td>['WP Saha', 'Shubman Gill', 'MS Wade', 'HH Pan...</td>\n",
       "      <td>CB Gaffaney</td>\n",
       "      <td>Nitin Menon</td>\n",
       "    </tr>\n",
       "    <tr>\n",
       "      <th>1</th>\n",
       "      <td>1312199</td>\n",
       "      <td>Ahmedabad</td>\n",
       "      <td>2022-05-27</td>\n",
       "      <td>2022</td>\n",
       "      <td>Qualifier 2</td>\n",
       "      <td>Royal Challengers Bangalore</td>\n",
       "      <td>Rajasthan Royals</td>\n",
       "      <td>Narendra Modi Stadium</td>\n",
       "      <td>Rajasthan Royals</td>\n",
       "      <td>field</td>\n",
       "      <td>N</td>\n",
       "      <td>Rajasthan Royals</td>\n",
       "      <td>Wickets</td>\n",
       "      <td>7.0</td>\n",
       "      <td>NaN</td>\n",
       "      <td>JC Buttler</td>\n",
       "      <td>['V Kohli', 'F du Plessis', 'RM Patidar', 'GJ ...</td>\n",
       "      <td>['YBK Jaiswal', 'JC Buttler', 'SV Samson', 'D ...</td>\n",
       "      <td>CB Gaffaney</td>\n",
       "      <td>Nitin Menon</td>\n",
       "    </tr>\n",
       "    <tr>\n",
       "      <th>2</th>\n",
       "      <td>1312198</td>\n",
       "      <td>Kolkata</td>\n",
       "      <td>2022-05-25</td>\n",
       "      <td>2022</td>\n",
       "      <td>Eliminator</td>\n",
       "      <td>Royal Challengers Bangalore</td>\n",
       "      <td>Lucknow Super Giants</td>\n",
       "      <td>Eden Gardens</td>\n",
       "      <td>Lucknow Super Giants</td>\n",
       "      <td>field</td>\n",
       "      <td>N</td>\n",
       "      <td>Royal Challengers Bangalore</td>\n",
       "      <td>Runs</td>\n",
       "      <td>14.0</td>\n",
       "      <td>NaN</td>\n",
       "      <td>RM Patidar</td>\n",
       "      <td>['V Kohli', 'F du Plessis', 'RM Patidar', 'GJ ...</td>\n",
       "      <td>['Q de Kock', 'KL Rahul', 'M Vohra', 'DJ Hooda...</td>\n",
       "      <td>J Madanagopal</td>\n",
       "      <td>MA Gough</td>\n",
       "    </tr>\n",
       "    <tr>\n",
       "      <th>3</th>\n",
       "      <td>1312197</td>\n",
       "      <td>Kolkata</td>\n",
       "      <td>2022-05-24</td>\n",
       "      <td>2022</td>\n",
       "      <td>Qualifier 1</td>\n",
       "      <td>Rajasthan Royals</td>\n",
       "      <td>Gujarat Titans</td>\n",
       "      <td>Eden Gardens</td>\n",
       "      <td>Gujarat Titans</td>\n",
       "      <td>field</td>\n",
       "      <td>N</td>\n",
       "      <td>Gujarat Titans</td>\n",
       "      <td>Wickets</td>\n",
       "      <td>7.0</td>\n",
       "      <td>NaN</td>\n",
       "      <td>DA Miller</td>\n",
       "      <td>['YBK Jaiswal', 'JC Buttler', 'SV Samson', 'D ...</td>\n",
       "      <td>['WP Saha', 'Shubman Gill', 'MS Wade', 'HH Pan...</td>\n",
       "      <td>BNJ Oxenford</td>\n",
       "      <td>VK Sharma</td>\n",
       "    </tr>\n",
       "    <tr>\n",
       "      <th>4</th>\n",
       "      <td>1304116</td>\n",
       "      <td>Mumbai</td>\n",
       "      <td>2022-05-22</td>\n",
       "      <td>2022</td>\n",
       "      <td>70</td>\n",
       "      <td>Sunrisers Hyderabad</td>\n",
       "      <td>Punjab Kings</td>\n",
       "      <td>Wankhede Stadium</td>\n",
       "      <td>Sunrisers Hyderabad</td>\n",
       "      <td>bat</td>\n",
       "      <td>N</td>\n",
       "      <td>Punjab Kings</td>\n",
       "      <td>Wickets</td>\n",
       "      <td>5.0</td>\n",
       "      <td>NaN</td>\n",
       "      <td>Harpreet Brar</td>\n",
       "      <td>['PK Garg', 'Abhishek Sharma', 'RA Tripathi', ...</td>\n",
       "      <td>['JM Bairstow', 'S Dhawan', 'M Shahrukh Khan',...</td>\n",
       "      <td>AK Chaudhary</td>\n",
       "      <td>NA Patwardhan</td>\n",
       "    </tr>\n",
       "  </tbody>\n",
       "</table>\n",
       "</div>"
      ],
      "text/plain": [
       "        ID       City        Date  Season  MatchNumber  \\\n",
       "0  1312200  Ahmedabad  2022-05-29    2022        Final   \n",
       "1  1312199  Ahmedabad  2022-05-27    2022  Qualifier 2   \n",
       "2  1312198    Kolkata  2022-05-25    2022   Eliminator   \n",
       "3  1312197    Kolkata  2022-05-24    2022  Qualifier 1   \n",
       "4  1304116     Mumbai  2022-05-22    2022           70   \n",
       "\n",
       "                         Team1                 Team2                  Venue  \\\n",
       "0             Rajasthan Royals        Gujarat Titans  Narendra Modi Stadium   \n",
       "1  Royal Challengers Bangalore      Rajasthan Royals  Narendra Modi Stadium   \n",
       "2  Royal Challengers Bangalore  Lucknow Super Giants           Eden Gardens   \n",
       "3             Rajasthan Royals        Gujarat Titans           Eden Gardens   \n",
       "4          Sunrisers Hyderabad          Punjab Kings       Wankhede Stadium   \n",
       "\n",
       "             TossWinner TossDecision SuperOver                  WinningTeam  \\\n",
       "0      Rajasthan Royals          bat         N               Gujarat Titans   \n",
       "1      Rajasthan Royals        field         N             Rajasthan Royals   \n",
       "2  Lucknow Super Giants        field         N  Royal Challengers Bangalore   \n",
       "3        Gujarat Titans        field         N               Gujarat Titans   \n",
       "4   Sunrisers Hyderabad          bat         N                 Punjab Kings   \n",
       "\n",
       "     WonBy  Margin method Player_of_Match  \\\n",
       "0  Wickets     7.0    NaN       HH Pandya   \n",
       "1  Wickets     7.0    NaN      JC Buttler   \n",
       "2     Runs    14.0    NaN      RM Patidar   \n",
       "3  Wickets     7.0    NaN       DA Miller   \n",
       "4  Wickets     5.0    NaN   Harpreet Brar   \n",
       "\n",
       "                                        Team1Players  \\\n",
       "0  ['YBK Jaiswal', 'JC Buttler', 'SV Samson', 'D ...   \n",
       "1  ['V Kohli', 'F du Plessis', 'RM Patidar', 'GJ ...   \n",
       "2  ['V Kohli', 'F du Plessis', 'RM Patidar', 'GJ ...   \n",
       "3  ['YBK Jaiswal', 'JC Buttler', 'SV Samson', 'D ...   \n",
       "4  ['PK Garg', 'Abhishek Sharma', 'RA Tripathi', ...   \n",
       "\n",
       "                                        Team2Players        Umpire1  \\\n",
       "0  ['WP Saha', 'Shubman Gill', 'MS Wade', 'HH Pan...    CB Gaffaney   \n",
       "1  ['YBK Jaiswal', 'JC Buttler', 'SV Samson', 'D ...    CB Gaffaney   \n",
       "2  ['Q de Kock', 'KL Rahul', 'M Vohra', 'DJ Hooda...  J Madanagopal   \n",
       "3  ['WP Saha', 'Shubman Gill', 'MS Wade', 'HH Pan...   BNJ Oxenford   \n",
       "4  ['JM Bairstow', 'S Dhawan', 'M Shahrukh Khan',...   AK Chaudhary   \n",
       "\n",
       "         Umpire2  \n",
       "0    Nitin Menon  \n",
       "1    Nitin Menon  \n",
       "2       MA Gough  \n",
       "3      VK Sharma  \n",
       "4  NA Patwardhan  "
      ]
     },
     "execution_count": 3,
     "metadata": {},
     "output_type": "execute_result"
    }
   ],
   "source": [
    "matches.head()  # first 5 datapoints in the matches "
   ]
  },
  {
   "cell_type": "code",
   "execution_count": 4,
   "id": "6decbae3",
   "metadata": {},
   "outputs": [
    {
     "data": {
      "text/html": [
       "<div>\n",
       "<style scoped>\n",
       "    .dataframe tbody tr th:only-of-type {\n",
       "        vertical-align: middle;\n",
       "    }\n",
       "\n",
       "    .dataframe tbody tr th {\n",
       "        vertical-align: top;\n",
       "    }\n",
       "\n",
       "    .dataframe thead th {\n",
       "        text-align: right;\n",
       "    }\n",
       "</style>\n",
       "<table border=\"1\" class=\"dataframe\">\n",
       "  <thead>\n",
       "    <tr style=\"text-align: right;\">\n",
       "      <th></th>\n",
       "      <th>ID</th>\n",
       "      <th>innings</th>\n",
       "      <th>overs</th>\n",
       "      <th>ballnumber</th>\n",
       "      <th>batter</th>\n",
       "      <th>bowler</th>\n",
       "      <th>non-striker</th>\n",
       "      <th>extra_type</th>\n",
       "      <th>batsman_run</th>\n",
       "      <th>extras_run</th>\n",
       "      <th>total_run</th>\n",
       "      <th>non_boundary</th>\n",
       "      <th>isWicketDelivery</th>\n",
       "      <th>player_out</th>\n",
       "      <th>kind</th>\n",
       "      <th>fielders_involved</th>\n",
       "      <th>BattingTeam</th>\n",
       "    </tr>\n",
       "  </thead>\n",
       "  <tbody>\n",
       "    <tr>\n",
       "      <th>0</th>\n",
       "      <td>1312200</td>\n",
       "      <td>1</td>\n",
       "      <td>1</td>\n",
       "      <td>1</td>\n",
       "      <td>YBK Jaiswal</td>\n",
       "      <td>Mohammed Shami</td>\n",
       "      <td>JC Buttler</td>\n",
       "      <td>NaN</td>\n",
       "      <td>0</td>\n",
       "      <td>0</td>\n",
       "      <td>0</td>\n",
       "      <td>0</td>\n",
       "      <td>0</td>\n",
       "      <td>NaN</td>\n",
       "      <td>NaN</td>\n",
       "      <td>NaN</td>\n",
       "      <td>Rajasthan Royals</td>\n",
       "    </tr>\n",
       "    <tr>\n",
       "      <th>1</th>\n",
       "      <td>1312200</td>\n",
       "      <td>1</td>\n",
       "      <td>1</td>\n",
       "      <td>2</td>\n",
       "      <td>YBK Jaiswal</td>\n",
       "      <td>Mohammed Shami</td>\n",
       "      <td>JC Buttler</td>\n",
       "      <td>legbyes</td>\n",
       "      <td>0</td>\n",
       "      <td>1</td>\n",
       "      <td>1</td>\n",
       "      <td>0</td>\n",
       "      <td>0</td>\n",
       "      <td>NaN</td>\n",
       "      <td>NaN</td>\n",
       "      <td>NaN</td>\n",
       "      <td>Rajasthan Royals</td>\n",
       "    </tr>\n",
       "    <tr>\n",
       "      <th>2</th>\n",
       "      <td>1312200</td>\n",
       "      <td>1</td>\n",
       "      <td>1</td>\n",
       "      <td>3</td>\n",
       "      <td>JC Buttler</td>\n",
       "      <td>Mohammed Shami</td>\n",
       "      <td>YBK Jaiswal</td>\n",
       "      <td>NaN</td>\n",
       "      <td>1</td>\n",
       "      <td>0</td>\n",
       "      <td>1</td>\n",
       "      <td>0</td>\n",
       "      <td>0</td>\n",
       "      <td>NaN</td>\n",
       "      <td>NaN</td>\n",
       "      <td>NaN</td>\n",
       "      <td>Rajasthan Royals</td>\n",
       "    </tr>\n",
       "    <tr>\n",
       "      <th>3</th>\n",
       "      <td>1312200</td>\n",
       "      <td>1</td>\n",
       "      <td>1</td>\n",
       "      <td>4</td>\n",
       "      <td>YBK Jaiswal</td>\n",
       "      <td>Mohammed Shami</td>\n",
       "      <td>JC Buttler</td>\n",
       "      <td>NaN</td>\n",
       "      <td>0</td>\n",
       "      <td>0</td>\n",
       "      <td>0</td>\n",
       "      <td>0</td>\n",
       "      <td>0</td>\n",
       "      <td>NaN</td>\n",
       "      <td>NaN</td>\n",
       "      <td>NaN</td>\n",
       "      <td>Rajasthan Royals</td>\n",
       "    </tr>\n",
       "    <tr>\n",
       "      <th>4</th>\n",
       "      <td>1312200</td>\n",
       "      <td>1</td>\n",
       "      <td>1</td>\n",
       "      <td>5</td>\n",
       "      <td>YBK Jaiswal</td>\n",
       "      <td>Mohammed Shami</td>\n",
       "      <td>JC Buttler</td>\n",
       "      <td>NaN</td>\n",
       "      <td>0</td>\n",
       "      <td>0</td>\n",
       "      <td>0</td>\n",
       "      <td>0</td>\n",
       "      <td>0</td>\n",
       "      <td>NaN</td>\n",
       "      <td>NaN</td>\n",
       "      <td>NaN</td>\n",
       "      <td>Rajasthan Royals</td>\n",
       "    </tr>\n",
       "  </tbody>\n",
       "</table>\n",
       "</div>"
      ],
      "text/plain": [
       "        ID  innings  overs  ballnumber       batter          bowler  \\\n",
       "0  1312200        1      1           1  YBK Jaiswal  Mohammed Shami   \n",
       "1  1312200        1      1           2  YBK Jaiswal  Mohammed Shami   \n",
       "2  1312200        1      1           3   JC Buttler  Mohammed Shami   \n",
       "3  1312200        1      1           4  YBK Jaiswal  Mohammed Shami   \n",
       "4  1312200        1      1           5  YBK Jaiswal  Mohammed Shami   \n",
       "\n",
       "   non-striker extra_type  batsman_run  extras_run  total_run  non_boundary  \\\n",
       "0   JC Buttler        NaN            0           0          0             0   \n",
       "1   JC Buttler    legbyes            0           1          1             0   \n",
       "2  YBK Jaiswal        NaN            1           0          1             0   \n",
       "3   JC Buttler        NaN            0           0          0             0   \n",
       "4   JC Buttler        NaN            0           0          0             0   \n",
       "\n",
       "   isWicketDelivery player_out kind fielders_involved       BattingTeam  \n",
       "0                 0        NaN  NaN               NaN  Rajasthan Royals  \n",
       "1                 0        NaN  NaN               NaN  Rajasthan Royals  \n",
       "2                 0        NaN  NaN               NaN  Rajasthan Royals  \n",
       "3                 0        NaN  NaN               NaN  Rajasthan Royals  \n",
       "4                 0        NaN  NaN               NaN  Rajasthan Royals  "
      ]
     },
     "execution_count": 4,
     "metadata": {},
     "output_type": "execute_result"
    }
   ],
   "source": [
    "delivery.head() # first 5 datapoints in the ball_by_ball "
   ]
  },
  {
   "cell_type": "code",
   "execution_count": 5,
   "id": "fe378f2e",
   "metadata": {},
   "outputs": [
    {
     "name": "stdout",
     "output_type": "stream",
     "text": [
      "<class 'pandas.core.frame.DataFrame'>\n",
      "Int64Index: 950 entries, 0 to 949\n",
      "Data columns (total 20 columns):\n",
      " #   Column           Non-Null Count  Dtype  \n",
      "---  ------           --------------  -----  \n",
      " 0   ID               950 non-null    int64  \n",
      " 1   City             899 non-null    object \n",
      " 2   Date             950 non-null    object \n",
      " 3   Season           950 non-null    int64  \n",
      " 4   MatchNumber      950 non-null    object \n",
      " 5   Team1            950 non-null    object \n",
      " 6   Team2            950 non-null    object \n",
      " 7   Venue            950 non-null    object \n",
      " 8   TossWinner       950 non-null    object \n",
      " 9   TossDecision     950 non-null    object \n",
      " 10  SuperOver        946 non-null    object \n",
      " 11  WinningTeam      946 non-null    object \n",
      " 12  WonBy            950 non-null    object \n",
      " 13  Margin           932 non-null    float64\n",
      " 14  method           19 non-null     object \n",
      " 15  Player_of_Match  946 non-null    object \n",
      " 16  Team1Players     950 non-null    object \n",
      " 17  Team2Players     950 non-null    object \n",
      " 18  Umpire1          950 non-null    object \n",
      " 19  Umpire2          950 non-null    object \n",
      "dtypes: float64(1), int64(2), object(17)\n",
      "memory usage: 155.9+ KB\n"
     ]
    }
   ],
   "source": [
    "matches.info()"
   ]
  },
  {
   "cell_type": "code",
   "execution_count": 6,
   "id": "d9b28d9f",
   "metadata": {},
   "outputs": [
    {
     "name": "stdout",
     "output_type": "stream",
     "text": [
      "<class 'pandas.core.frame.DataFrame'>\n",
      "Int64Index: 225954 entries, 0 to 225953\n",
      "Data columns (total 17 columns):\n",
      " #   Column             Non-Null Count   Dtype \n",
      "---  ------             --------------   ----- \n",
      " 0   ID                 225954 non-null  int64 \n",
      " 1   innings            225954 non-null  int64 \n",
      " 2   overs              225954 non-null  int64 \n",
      " 3   ballnumber         225954 non-null  int64 \n",
      " 4   batter             225954 non-null  object\n",
      " 5   bowler             225954 non-null  object\n",
      " 6   non-striker        225954 non-null  object\n",
      " 7   extra_type         12049 non-null   object\n",
      " 8   batsman_run        225954 non-null  int64 \n",
      " 9   extras_run         225954 non-null  int64 \n",
      " 10  total_run          225954 non-null  int64 \n",
      " 11  non_boundary       225954 non-null  int64 \n",
      " 12  isWicketDelivery   225954 non-null  int64 \n",
      " 13  player_out         11151 non-null   object\n",
      " 14  kind               11151 non-null   object\n",
      " 15  fielders_involved  7988 non-null    object\n",
      " 16  BattingTeam        225954 non-null  object\n",
      "dtypes: int64(9), object(8)\n",
      "memory usage: 31.0+ MB\n"
     ]
    }
   ],
   "source": [
    "delivery.info()"
   ]
  },
  {
   "cell_type": "markdown",
   "id": "b23e189e",
   "metadata": {},
   "source": [
    "## -- IPL Trophy Holders"
   ]
  },
  {
   "cell_type": "code",
   "execution_count": 7,
   "id": "b080c2d5",
   "metadata": {
    "scrolled": false
   },
   "outputs": [
    {
     "data": {
      "text/html": [
       "<div>\n",
       "<style scoped>\n",
       "    .dataframe tbody tr th:only-of-type {\n",
       "        vertical-align: middle;\n",
       "    }\n",
       "\n",
       "    .dataframe tbody tr th {\n",
       "        vertical-align: top;\n",
       "    }\n",
       "\n",
       "    .dataframe thead th {\n",
       "        text-align: right;\n",
       "    }\n",
       "</style>\n",
       "<table border=\"1\" class=\"dataframe\">\n",
       "  <thead>\n",
       "    <tr style=\"text-align: right;\">\n",
       "      <th></th>\n",
       "      <th>WinningTeam</th>\n",
       "    </tr>\n",
       "    <tr>\n",
       "      <th>Season</th>\n",
       "      <th></th>\n",
       "    </tr>\n",
       "  </thead>\n",
       "  <tbody>\n",
       "    <tr>\n",
       "      <th>2022</th>\n",
       "      <td>Gujarat Titans</td>\n",
       "    </tr>\n",
       "    <tr>\n",
       "      <th>2021</th>\n",
       "      <td>Chennai Super Kings</td>\n",
       "    </tr>\n",
       "    <tr>\n",
       "      <th>2020</th>\n",
       "      <td>Mumbai Indians</td>\n",
       "    </tr>\n",
       "    <tr>\n",
       "      <th>2019</th>\n",
       "      <td>Mumbai Indians</td>\n",
       "    </tr>\n",
       "    <tr>\n",
       "      <th>2018</th>\n",
       "      <td>Chennai Super Kings</td>\n",
       "    </tr>\n",
       "    <tr>\n",
       "      <th>2017</th>\n",
       "      <td>Mumbai Indians</td>\n",
       "    </tr>\n",
       "    <tr>\n",
       "      <th>2016</th>\n",
       "      <td>Sunrisers Hyderabad</td>\n",
       "    </tr>\n",
       "    <tr>\n",
       "      <th>2015</th>\n",
       "      <td>Mumbai Indians</td>\n",
       "    </tr>\n",
       "    <tr>\n",
       "      <th>2014</th>\n",
       "      <td>Kolkata Knight Riders</td>\n",
       "    </tr>\n",
       "    <tr>\n",
       "      <th>2013</th>\n",
       "      <td>Mumbai Indians</td>\n",
       "    </tr>\n",
       "    <tr>\n",
       "      <th>2012</th>\n",
       "      <td>Kolkata Knight Riders</td>\n",
       "    </tr>\n",
       "    <tr>\n",
       "      <th>2011</th>\n",
       "      <td>Chennai Super Kings</td>\n",
       "    </tr>\n",
       "    <tr>\n",
       "      <th>2010</th>\n",
       "      <td>Chennai Super Kings</td>\n",
       "    </tr>\n",
       "    <tr>\n",
       "      <th>2009</th>\n",
       "      <td>Sunrisers Hyderabad</td>\n",
       "    </tr>\n",
       "    <tr>\n",
       "      <th>2008</th>\n",
       "      <td>Rajasthan Royals</td>\n",
       "    </tr>\n",
       "  </tbody>\n",
       "</table>\n",
       "</div>"
      ],
      "text/plain": [
       "                  WinningTeam\n",
       "Season                       \n",
       "2022           Gujarat Titans\n",
       "2021      Chennai Super Kings\n",
       "2020           Mumbai Indians\n",
       "2019           Mumbai Indians\n",
       "2018      Chennai Super Kings\n",
       "2017           Mumbai Indians\n",
       "2016      Sunrisers Hyderabad\n",
       "2015           Mumbai Indians\n",
       "2014    Kolkata Knight Riders\n",
       "2013           Mumbai Indians\n",
       "2012    Kolkata Knight Riders\n",
       "2011      Chennai Super Kings\n",
       "2010      Chennai Super Kings\n",
       "2009      Sunrisers Hyderabad\n",
       "2008         Rajasthan Royals"
      ]
     },
     "execution_count": 7,
     "metadata": {},
     "output_type": "execute_result"
    }
   ],
   "source": [
    "IPL_winners = matches[matches['MatchNumber']== 'Final'][['Season','WinningTeam']].set_index('Season')\n",
    "IPL_winners "
   ]
  },
  {
   "cell_type": "markdown",
   "id": "d47e03c4",
   "metadata": {},
   "source": [
    "## -- Number of times a team has won IPL winner title"
   ]
  },
  {
   "cell_type": "code",
   "execution_count": 8,
   "id": "83db2ad9",
   "metadata": {
    "scrolled": false
   },
   "outputs": [
    {
     "data": {
      "text/plain": [
       "WinningTeam          \n",
       "Mumbai Indians           5\n",
       "Chennai Super Kings      4\n",
       "Kolkata Knight Riders    2\n",
       "Sunrisers Hyderabad      2\n",
       "Gujarat Titans           1\n",
       "Rajasthan Royals         1\n",
       "dtype: int64"
      ]
     },
     "execution_count": 8,
     "metadata": {},
     "output_type": "execute_result"
    }
   ],
   "source": [
    "IPL_winners.value_counts()"
   ]
  },
  {
   "cell_type": "markdown",
   "id": "92044ec1",
   "metadata": {},
   "source": [
    "## -- Orange Cap Holder"
   ]
  },
  {
   "cell_type": "code",
   "execution_count": 9,
   "id": "9bccacb9",
   "metadata": {},
   "outputs": [
    {
     "data": {
      "text/html": [
       "<div>\n",
       "<style scoped>\n",
       "    .dataframe tbody tr th:only-of-type {\n",
       "        vertical-align: middle;\n",
       "    }\n",
       "\n",
       "    .dataframe tbody tr th {\n",
       "        vertical-align: top;\n",
       "    }\n",
       "\n",
       "    .dataframe thead th {\n",
       "        text-align: right;\n",
       "    }\n",
       "</style>\n",
       "<table border=\"1\" class=\"dataframe\">\n",
       "  <thead>\n",
       "    <tr style=\"text-align: right;\">\n",
       "      <th></th>\n",
       "      <th>batter</th>\n",
       "      <th>batsman_run</th>\n",
       "    </tr>\n",
       "    <tr>\n",
       "      <th>Season</th>\n",
       "      <th></th>\n",
       "      <th></th>\n",
       "    </tr>\n",
       "  </thead>\n",
       "  <tbody>\n",
       "    <tr>\n",
       "      <th>2022</th>\n",
       "      <td>JC Buttler</td>\n",
       "      <td>863</td>\n",
       "    </tr>\n",
       "    <tr>\n",
       "      <th>2021</th>\n",
       "      <td>RD Gaikwad</td>\n",
       "      <td>635</td>\n",
       "    </tr>\n",
       "    <tr>\n",
       "      <th>2020</th>\n",
       "      <td>KL Rahul</td>\n",
       "      <td>676</td>\n",
       "    </tr>\n",
       "    <tr>\n",
       "      <th>2019</th>\n",
       "      <td>DA Warner</td>\n",
       "      <td>692</td>\n",
       "    </tr>\n",
       "    <tr>\n",
       "      <th>2018</th>\n",
       "      <td>KS Williamson</td>\n",
       "      <td>735</td>\n",
       "    </tr>\n",
       "    <tr>\n",
       "      <th>2017</th>\n",
       "      <td>DA Warner</td>\n",
       "      <td>641</td>\n",
       "    </tr>\n",
       "    <tr>\n",
       "      <th>2016</th>\n",
       "      <td>V Kohli</td>\n",
       "      <td>973</td>\n",
       "    </tr>\n",
       "    <tr>\n",
       "      <th>2015</th>\n",
       "      <td>DA Warner</td>\n",
       "      <td>562</td>\n",
       "    </tr>\n",
       "    <tr>\n",
       "      <th>2014</th>\n",
       "      <td>RV Uthappa</td>\n",
       "      <td>660</td>\n",
       "    </tr>\n",
       "    <tr>\n",
       "      <th>2013</th>\n",
       "      <td>MEK Hussey</td>\n",
       "      <td>733</td>\n",
       "    </tr>\n",
       "    <tr>\n",
       "      <th>2012</th>\n",
       "      <td>CH Gayle</td>\n",
       "      <td>733</td>\n",
       "    </tr>\n",
       "    <tr>\n",
       "      <th>2011</th>\n",
       "      <td>CH Gayle</td>\n",
       "      <td>608</td>\n",
       "    </tr>\n",
       "    <tr>\n",
       "      <th>2010</th>\n",
       "      <td>SR Tendulkar</td>\n",
       "      <td>618</td>\n",
       "    </tr>\n",
       "    <tr>\n",
       "      <th>2009</th>\n",
       "      <td>ML Hayden</td>\n",
       "      <td>572</td>\n",
       "    </tr>\n",
       "    <tr>\n",
       "      <th>2008</th>\n",
       "      <td>SE Marsh</td>\n",
       "      <td>616</td>\n",
       "    </tr>\n",
       "  </tbody>\n",
       "</table>\n",
       "</div>"
      ],
      "text/plain": [
       "               batter  batsman_run\n",
       "Season                            \n",
       "2022       JC Buttler          863\n",
       "2021       RD Gaikwad          635\n",
       "2020         KL Rahul          676\n",
       "2019        DA Warner          692\n",
       "2018    KS Williamson          735\n",
       "2017        DA Warner          641\n",
       "2016          V Kohli          973\n",
       "2015        DA Warner          562\n",
       "2014       RV Uthappa          660\n",
       "2013       MEK Hussey          733\n",
       "2012         CH Gayle          733\n",
       "2011         CH Gayle          608\n",
       "2010     SR Tendulkar          618\n",
       "2009        ML Hayden          572\n",
       "2008         SE Marsh          616"
      ]
     },
     "execution_count": 9,
     "metadata": {},
     "output_type": "execute_result"
    }
   ],
   "source": [
    "Orange_Cap_Holder = df.groupby(['Season','batter'])['batsman_run'].sum().reset_index().sort_values(by=['Season', 'batsman_run'], ascending=False)\n",
    "Orange_Cap_Holder = Orange_Cap_Holder.groupby('Season').head(1).set_index('Season')\n",
    "Orange_Cap_Holder"
   ]
  },
  {
   "cell_type": "markdown",
   "id": "606ed29b",
   "metadata": {},
   "source": [
    "## -- Purple Cap Holder"
   ]
  },
  {
   "cell_type": "code",
   "execution_count": 10,
   "id": "6facbd4f",
   "metadata": {
    "scrolled": true
   },
   "outputs": [
    {
     "data": {
      "text/plain": [
       "caught                   6837\n",
       "bowled                   1944\n",
       "run out                  1007\n",
       "lbw                       685\n",
       "stumped                   325\n",
       "caught and bowled         323\n",
       "hit wicket                 14\n",
       "retired hurt               13\n",
       "obstructing the field       2\n",
       "retired out                 1\n",
       "Name: kind, dtype: int64"
      ]
     },
     "execution_count": 10,
     "metadata": {},
     "output_type": "execute_result"
    }
   ],
   "source": [
    "delivery['kind'].value_counts()"
   ]
  },
  {
   "cell_type": "code",
   "execution_count": 11,
   "id": "0d3e5baa",
   "metadata": {},
   "outputs": [
    {
     "data": {
      "text/plain": [
       "Index(['caught', 'bowled', 'run out', 'lbw', 'stumped', 'caught and bowled',\n",
       "       'hit wicket', 'retired hurt', 'obstructing the field', 'retired out'],\n",
       "      dtype='object')"
      ]
     },
     "execution_count": 11,
     "metadata": {},
     "output_type": "execute_result"
    }
   ],
   "source": [
    "delivery['kind'].value_counts().keys()"
   ]
  },
  {
   "cell_type": "code",
   "execution_count": 12,
   "id": "e443f2a4",
   "metadata": {},
   "outputs": [],
   "source": [
    "dismissal=['caught','bowled','lbw','stumped','caught and bowled','hit wicket']# only in these cases the wicket credit is given to bowler"
   ]
  },
  {
   "cell_type": "code",
   "execution_count": 13,
   "id": "053a2207",
   "metadata": {},
   "outputs": [],
   "source": [
    "out=df[df['kind'].isin(dismissal)]"
   ]
  },
  {
   "cell_type": "code",
   "execution_count": 14,
   "id": "eab5d589",
   "metadata": {},
   "outputs": [
    {
     "data": {
      "text/html": [
       "<div>\n",
       "<style scoped>\n",
       "    .dataframe tbody tr th:only-of-type {\n",
       "        vertical-align: middle;\n",
       "    }\n",
       "\n",
       "    .dataframe tbody tr th {\n",
       "        vertical-align: top;\n",
       "    }\n",
       "\n",
       "    .dataframe thead th {\n",
       "        text-align: right;\n",
       "    }\n",
       "</style>\n",
       "<table border=\"1\" class=\"dataframe\">\n",
       "  <thead>\n",
       "    <tr style=\"text-align: right;\">\n",
       "      <th></th>\n",
       "      <th>bowler</th>\n",
       "      <th>number_of_wickets</th>\n",
       "    </tr>\n",
       "    <tr>\n",
       "      <th>Season</th>\n",
       "      <th></th>\n",
       "      <th></th>\n",
       "    </tr>\n",
       "  </thead>\n",
       "  <tbody>\n",
       "    <tr>\n",
       "      <th>2022</th>\n",
       "      <td>YS Chahal</td>\n",
       "      <td>27</td>\n",
       "    </tr>\n",
       "    <tr>\n",
       "      <th>2021</th>\n",
       "      <td>HV Patel</td>\n",
       "      <td>32</td>\n",
       "    </tr>\n",
       "    <tr>\n",
       "      <th>2020</th>\n",
       "      <td>K Rabada</td>\n",
       "      <td>32</td>\n",
       "    </tr>\n",
       "    <tr>\n",
       "      <th>2019</th>\n",
       "      <td>Imran Tahir</td>\n",
       "      <td>26</td>\n",
       "    </tr>\n",
       "    <tr>\n",
       "      <th>2018</th>\n",
       "      <td>AJ Tye</td>\n",
       "      <td>24</td>\n",
       "    </tr>\n",
       "    <tr>\n",
       "      <th>2017</th>\n",
       "      <td>B Kumar</td>\n",
       "      <td>26</td>\n",
       "    </tr>\n",
       "    <tr>\n",
       "      <th>2016</th>\n",
       "      <td>B Kumar</td>\n",
       "      <td>23</td>\n",
       "    </tr>\n",
       "    <tr>\n",
       "      <th>2015</th>\n",
       "      <td>DJ Bravo</td>\n",
       "      <td>26</td>\n",
       "    </tr>\n",
       "    <tr>\n",
       "      <th>2014</th>\n",
       "      <td>MM Sharma</td>\n",
       "      <td>23</td>\n",
       "    </tr>\n",
       "    <tr>\n",
       "      <th>2013</th>\n",
       "      <td>DJ Bravo</td>\n",
       "      <td>32</td>\n",
       "    </tr>\n",
       "    <tr>\n",
       "      <th>2012</th>\n",
       "      <td>M Morkel</td>\n",
       "      <td>25</td>\n",
       "    </tr>\n",
       "    <tr>\n",
       "      <th>2011</th>\n",
       "      <td>SL Malinga</td>\n",
       "      <td>28</td>\n",
       "    </tr>\n",
       "    <tr>\n",
       "      <th>2010</th>\n",
       "      <td>PP Ojha</td>\n",
       "      <td>21</td>\n",
       "    </tr>\n",
       "    <tr>\n",
       "      <th>2009</th>\n",
       "      <td>RP Singh</td>\n",
       "      <td>23</td>\n",
       "    </tr>\n",
       "    <tr>\n",
       "      <th>2008</th>\n",
       "      <td>Sohail Tanvir</td>\n",
       "      <td>22</td>\n",
       "    </tr>\n",
       "  </tbody>\n",
       "</table>\n",
       "</div>"
      ],
      "text/plain": [
       "               bowler  number_of_wickets\n",
       "Season                                  \n",
       "2022        YS Chahal                 27\n",
       "2021         HV Patel                 32\n",
       "2020         K Rabada                 32\n",
       "2019      Imran Tahir                 26\n",
       "2018           AJ Tye                 24\n",
       "2017          B Kumar                 26\n",
       "2016          B Kumar                 23\n",
       "2015         DJ Bravo                 26\n",
       "2014        MM Sharma                 23\n",
       "2013         DJ Bravo                 32\n",
       "2012         M Morkel                 25\n",
       "2011       SL Malinga                 28\n",
       "2010          PP Ojha                 21\n",
       "2009         RP Singh                 23\n",
       "2008    Sohail Tanvir                 22"
      ]
     },
     "execution_count": 14,
     "metadata": {},
     "output_type": "execute_result"
    }
   ],
   "source": [
    "Purple_Cap_Holder = out.groupby(['Season','bowler'])['kind'].count().reset_index().sort_values(by=['Season', 'kind'], ascending=False)\n",
    "Purple_Cap_Holder = Purple_Cap_Holder.groupby('Season').head(1).set_index('Season')\n",
    "Purple_Cap_Holder.rename(columns={'kind':'number_of_wickets'})"
   ]
  },
  {
   "cell_type": "markdown",
   "id": "732f7962",
   "metadata": {},
   "source": [
    "## -- player of match in final match in each season"
   ]
  },
  {
   "cell_type": "code",
   "execution_count": 15,
   "id": "f4792c96",
   "metadata": {
    "scrolled": false
   },
   "outputs": [
    {
     "data": {
      "text/html": [
       "<div>\n",
       "<style scoped>\n",
       "    .dataframe tbody tr th:only-of-type {\n",
       "        vertical-align: middle;\n",
       "    }\n",
       "\n",
       "    .dataframe tbody tr th {\n",
       "        vertical-align: top;\n",
       "    }\n",
       "\n",
       "    .dataframe thead th {\n",
       "        text-align: right;\n",
       "    }\n",
       "</style>\n",
       "<table border=\"1\" class=\"dataframe\">\n",
       "  <thead>\n",
       "    <tr style=\"text-align: right;\">\n",
       "      <th></th>\n",
       "      <th>Player_of_Match</th>\n",
       "    </tr>\n",
       "    <tr>\n",
       "      <th>Season</th>\n",
       "      <th></th>\n",
       "    </tr>\n",
       "  </thead>\n",
       "  <tbody>\n",
       "    <tr>\n",
       "      <th>2022</th>\n",
       "      <td>HH Pandya</td>\n",
       "    </tr>\n",
       "    <tr>\n",
       "      <th>2021</th>\n",
       "      <td>F du Plessis</td>\n",
       "    </tr>\n",
       "    <tr>\n",
       "      <th>2020</th>\n",
       "      <td>TA Boult</td>\n",
       "    </tr>\n",
       "    <tr>\n",
       "      <th>2019</th>\n",
       "      <td>JJ Bumrah</td>\n",
       "    </tr>\n",
       "    <tr>\n",
       "      <th>2018</th>\n",
       "      <td>SR Watson</td>\n",
       "    </tr>\n",
       "    <tr>\n",
       "      <th>2017</th>\n",
       "      <td>KH Pandya</td>\n",
       "    </tr>\n",
       "    <tr>\n",
       "      <th>2016</th>\n",
       "      <td>BCJ Cutting</td>\n",
       "    </tr>\n",
       "    <tr>\n",
       "      <th>2015</th>\n",
       "      <td>RG Sharma</td>\n",
       "    </tr>\n",
       "    <tr>\n",
       "      <th>2014</th>\n",
       "      <td>MK Pandey</td>\n",
       "    </tr>\n",
       "    <tr>\n",
       "      <th>2013</th>\n",
       "      <td>KA Pollard</td>\n",
       "    </tr>\n",
       "    <tr>\n",
       "      <th>2012</th>\n",
       "      <td>MS Bisla</td>\n",
       "    </tr>\n",
       "    <tr>\n",
       "      <th>2011</th>\n",
       "      <td>M Vijay</td>\n",
       "    </tr>\n",
       "    <tr>\n",
       "      <th>2010</th>\n",
       "      <td>SK Raina</td>\n",
       "    </tr>\n",
       "    <tr>\n",
       "      <th>2009</th>\n",
       "      <td>A Kumble</td>\n",
       "    </tr>\n",
       "    <tr>\n",
       "      <th>2008</th>\n",
       "      <td>YK Pathan</td>\n",
       "    </tr>\n",
       "  </tbody>\n",
       "</table>\n",
       "</div>"
      ],
      "text/plain": [
       "       Player_of_Match\n",
       "Season                \n",
       "2022         HH Pandya\n",
       "2021      F du Plessis\n",
       "2020          TA Boult\n",
       "2019         JJ Bumrah\n",
       "2018         SR Watson\n",
       "2017         KH Pandya\n",
       "2016       BCJ Cutting\n",
       "2015         RG Sharma\n",
       "2014         MK Pandey\n",
       "2013        KA Pollard\n",
       "2012          MS Bisla\n",
       "2011           M Vijay\n",
       "2010          SK Raina\n",
       "2009          A Kumble\n",
       "2008         YK Pathan"
      ]
     },
     "execution_count": 15,
     "metadata": {},
     "output_type": "execute_result"
    }
   ],
   "source": [
    "matches[matches['MatchNumber']== 'Final'].reset_index()[['Season','Player_of_Match']].set_index('Season')"
   ]
  },
  {
   "cell_type": "code",
   "execution_count": 16,
   "id": "fc63c355",
   "metadata": {},
   "outputs": [
    {
     "data": {
      "text/plain": [
       "Royal Challengers Bangalore    126\n",
       "Delhi Capitals                 114\n",
       "Mumbai Indians                 112\n",
       "Chennai Super Kings            111\n",
       "Punjab Kings                   110\n",
       "Sunrisers Hyderabad            108\n",
       "Kolkata Knight Riders          105\n",
       "Rajasthan Royals                89\n",
       "Pune Warriors                   23\n",
       "Gujarat Lions                   16\n",
       "Rising Pune Supergiant          14\n",
       "Lucknow Super Giants             8\n",
       "Gujarat Titans                   7\n",
       "Kochi Tuskers Kerala             7\n",
       "Name: Team1, dtype: int64"
      ]
     },
     "execution_count": 16,
     "metadata": {},
     "output_type": "execute_result"
    }
   ],
   "source": [
    "matches['Team1'].value_counts()"
   ]
  },
  {
   "cell_type": "code",
   "execution_count": 17,
   "id": "f6c56d9a",
   "metadata": {},
   "outputs": [
    {
     "data": {
      "text/plain": [
       "Mumbai Indians                 119\n",
       "Sunrisers Hyderabad            119\n",
       "Kolkata Knight Riders          118\n",
       "Delhi Capitals                 110\n",
       "Punjab Kings                   108\n",
       "Rajasthan Royals               103\n",
       "Royal Challengers Bangalore    100\n",
       "Chennai Super Kings             97\n",
       "Pune Warriors                   23\n",
       "Rising Pune Supergiant          16\n",
       "Gujarat Lions                   14\n",
       "Gujarat Titans                   9\n",
       "Lucknow Super Giants             7\n",
       "Kochi Tuskers Kerala             7\n",
       "Name: Team2, dtype: int64"
      ]
     },
     "execution_count": 17,
     "metadata": {},
     "output_type": "execute_result"
    }
   ],
   "source": [
    "matches['Team2'].value_counts()"
   ]
  },
  {
   "cell_type": "markdown",
   "id": "448ea350",
   "metadata": {},
   "source": [
    "## -- number of matches the team has played in ipl history "
   ]
  },
  {
   "cell_type": "code",
   "execution_count": 18,
   "id": "418f5723",
   "metadata": {
    "scrolled": true
   },
   "outputs": [
    {
     "data": {
      "text/plain": [
       "Mumbai Indians                 231\n",
       "Sunrisers Hyderabad            227\n",
       "Royal Challengers Bangalore    226\n",
       "Delhi Capitals                 224\n",
       "Kolkata Knight Riders          223\n",
       "Punjab Kings                   218\n",
       "Chennai Super Kings            208\n",
       "Rajasthan Royals               192\n",
       "Pune Warriors                   46\n",
       "Gujarat Lions                   30\n",
       "Rising Pune Supergiant          30\n",
       "Gujarat Titans                  16\n",
       "Lucknow Super Giants            15\n",
       "Kochi Tuskers Kerala            14\n",
       "dtype: int64"
      ]
     },
     "execution_count": 18,
     "metadata": {},
     "output_type": "execute_result"
    }
   ],
   "source": [
    "num_of_matches_played = matches['Team1'].value_counts() + matches['Team2'].value_counts()\n",
    "num_of_matches_played = num_of_matches_played.sort_values(ascending=False)\n",
    "num_of_matches_played"
   ]
  },
  {
   "cell_type": "code",
   "execution_count": 19,
   "id": "d76e3c6f",
   "metadata": {},
   "outputs": [
    {
     "data": {
      "image/png": "[encoded data removed]",
      "text/plain": [
       "<Figure size 640x480 with 1 Axes>"
      ]
     },
     "metadata": {},
     "output_type": "display_data"
    }
   ],
   "source": [
    "sns.set_style('whitegrid')\n",
    "sns.barplot(x=num_of_matches_played.index, y=num_of_matches_played.values)\n",
    "\n",
    "plt.xlabel('Team')\n",
    "plt.ylabel('Number of Matches Played')\n",
    "plt.title('Number of Matches Played by Each Team')\n",
    "\n",
    "plt.xticks(rotation=85)\n",
    "plt.show()"
   ]
  },
  {
   "cell_type": "markdown",
   "id": "3e31c60e",
   "metadata": {},
   "source": [
    "## -- Number of matches won "
   ]
  },
  {
   "cell_type": "code",
   "execution_count": 20,
   "id": "9e051fa8",
   "metadata": {
    "scrolled": true
   },
   "outputs": [
    {
     "data": {
      "text/plain": [
       "Mumbai Indians                 131\n",
       "Chennai Super Kings            121\n",
       "Kolkata Knight Riders          114\n",
       "Royal Challengers Bangalore    109\n",
       "Sunrisers Hyderabad            104\n",
       "Delhi Capitals                 103\n",
       "Punjab Kings                   101\n",
       "Rajasthan Royals                96\n",
       "Rising Pune Supergiant          15\n",
       "Gujarat Lions                   13\n",
       "Gujarat Titans                  12\n",
       "Pune Warriors                   12\n",
       "Lucknow Super Giants             9\n",
       "Kochi Tuskers Kerala             6\n",
       "Name: WinningTeam, dtype: int64"
      ]
     },
     "execution_count": 20,
     "metadata": {},
     "output_type": "execute_result"
    }
   ],
   "source": [
    "num_of_matches_won = matches['WinningTeam'].value_counts()\n",
    "num_of_matches_won"
   ]
  },
  {
   "cell_type": "markdown",
   "id": "35ea0998",
   "metadata": {},
   "source": [
    "## -- winning % "
   ]
  },
  {
   "cell_type": "code",
   "execution_count": 21,
   "id": "c7acf47c",
   "metadata": {
    "scrolled": true
   },
   "outputs": [
    {
     "data": {
      "text/plain": [
       "Gujarat Titans                 75.00\n",
       "Lucknow Super Giants           60.00\n",
       "Chennai Super Kings            58.17\n",
       "Mumbai Indians                 56.71\n",
       "Kolkata Knight Riders          51.12\n",
       "Rajasthan Royals               50.00\n",
       "Rising Pune Supergiant         50.00\n",
       "Royal Challengers Bangalore    48.23\n",
       "Punjab Kings                   46.33\n",
       "Delhi Capitals                 45.98\n",
       "Sunrisers Hyderabad            45.81\n",
       "Gujarat Lions                  43.33\n",
       "Kochi Tuskers Kerala           42.86\n",
       "Pune Warriors                  26.09\n",
       "dtype: float64"
      ]
     },
     "execution_count": 21,
     "metadata": {},
     "output_type": "execute_result"
    }
   ],
   "source": [
    "win_percentages = round((num_of_matches_won/num_of_matches_played)*100,2).sort_values(ascending=False)\n",
    "win_percentages"
   ]
  },
  {
   "cell_type": "code",
   "execution_count": 22,
   "id": "61c9ac1b",
   "metadata": {},
   "outputs": [
    {
     "data": {
      "image/png": "[encoded data removed]",
      "text/plain": [
       "<Figure size 640x480 with 1 Axes>"
      ]
     },
     "metadata": {},
     "output_type": "display_data"
    }
   ],
   "source": [
    "labels = win_percentages.index.tolist()\n",
    "sizes = win_percentages.tolist()\n",
    "\n",
    "plt.pie(sizes, labels=labels, autopct='%0.1f%%')\n",
    "\n",
    "plt.title('Win Percentages')\n",
    "\n",
    "plt.show()"
   ]
  },
  {
   "cell_type": "markdown",
   "id": "24730fc7",
   "metadata": {},
   "source": [
    "## -- Top 25 players  with most player of the match"
   ]
  },
  {
   "cell_type": "code",
   "execution_count": 23,
   "id": "db85f9b4",
   "metadata": {
    "scrolled": false
   },
   "outputs": [
    {
     "data": {
      "text/plain": [
       "AB de Villiers    25\n",
       "CH Gayle          22\n",
       "DA Warner         18\n",
       "RG Sharma         18\n",
       "MS Dhoni          17\n",
       "YK Pathan         16\n",
       "SR Watson         16\n",
       "KA Pollard        14\n",
       "SK Raina          14\n",
       "V Kohli           14\n",
       "G Gambhir         13\n",
       "AM Rahane         12\n",
       "SP Narine         12\n",
       "MEK Hussey        12\n",
       "A Mishra          12\n",
       "AD Russell        12\n",
       "KL Rahul          12\n",
       "S Dhawan          11\n",
       "V Sehwag          11\n",
       "RA Jadeja         11\n",
       "DR Smith          11\n",
       "AT Rayudu         10\n",
       "JC Buttler        10\n",
       "JH Kallis         10\n",
       "UT Yadav          10\n",
       "Name: Player_of_Match, dtype: int64"
      ]
     },
     "execution_count": 23,
     "metadata": {},
     "output_type": "execute_result"
    }
   ],
   "source": [
    "matches['Player_of_Match'].value_counts()[0:25] "
   ]
  },
  {
   "cell_type": "markdown",
   "id": "c4b593fb",
   "metadata": {},
   "source": [
    "## -- Total 6's in each season"
   ]
  },
  {
   "cell_type": "code",
   "execution_count": 24,
   "id": "d1a66969",
   "metadata": {
    "scrolled": true
   },
   "outputs": [
    {
     "data": {
      "text/plain": [
       "Season\n",
       "2022    1062\n",
       "2021     687\n",
       "2020     736\n",
       "2019     786\n",
       "2018     872\n",
       "2017     706\n",
       "2016     639\n",
       "2015     692\n",
       "2014     715\n",
       "2013     681\n",
       "2012     733\n",
       "2011     639\n",
       "2010     587\n",
       "2009     508\n",
       "2008     623\n",
       "Name: batsman_run, dtype: int64"
      ]
     },
     "execution_count": 24,
     "metadata": {},
     "output_type": "execute_result"
    }
   ],
   "source": [
    "Total_six= df[df['batsman_run']==6]\n",
    "Total_six.groupby('Season').count()['batsman_run'].sort_index(ascending=False)"
   ]
  },
  {
   "cell_type": "markdown",
   "id": "5371b9d6",
   "metadata": {},
   "source": [
    "## -- Total 4's in each season"
   ]
  },
  {
   "cell_type": "code",
   "execution_count": 25,
   "id": "95463c53",
   "metadata": {},
   "outputs": [
    {
     "data": {
      "text/plain": [
       "Season\n",
       "2022    2020\n",
       "2021    1551\n",
       "2020    1589\n",
       "2019    1655\n",
       "2018    1652\n",
       "2017    1612\n",
       "2016    1633\n",
       "2015    1611\n",
       "2014    1563\n",
       "2013    2054\n",
       "2012    1911\n",
       "2011    1916\n",
       "2010    1709\n",
       "2009    1321\n",
       "2008    1703\n",
       "Name: batsman_run, dtype: int64"
      ]
     },
     "execution_count": 25,
     "metadata": {},
     "output_type": "execute_result"
    }
   ],
   "source": [
    "Total_four= df[df['batsman_run']==4]\n",
    "Total_four.groupby('Season').count()['batsman_run'].sort_index(ascending=False)"
   ]
  },
  {
   "cell_type": "markdown",
   "id": "c0e745e9",
   "metadata": {},
   "source": [
    "## -- Top 20  Highest  Team score  in IPL history"
   ]
  },
  {
   "cell_type": "code",
   "execution_count": 26,
   "id": "a467c37f",
   "metadata": {
    "scrolled": false
   },
   "outputs": [
    {
     "data": {
      "text/html": [
       "<div>\n",
       "<style scoped>\n",
       "    .dataframe tbody tr th:only-of-type {\n",
       "        vertical-align: middle;\n",
       "    }\n",
       "\n",
       "    .dataframe tbody tr th {\n",
       "        vertical-align: top;\n",
       "    }\n",
       "\n",
       "    .dataframe thead th {\n",
       "        text-align: right;\n",
       "    }\n",
       "</style>\n",
       "<table border=\"1\" class=\"dataframe\">\n",
       "  <thead>\n",
       "    <tr style=\"text-align: right;\">\n",
       "      <th></th>\n",
       "      <th>BattingTeam</th>\n",
       "      <th>total_run</th>\n",
       "    </tr>\n",
       "    <tr>\n",
       "      <th>Season</th>\n",
       "      <th></th>\n",
       "      <th></th>\n",
       "    </tr>\n",
       "  </thead>\n",
       "  <tbody>\n",
       "    <tr>\n",
       "      <th>2013</th>\n",
       "      <td>Royal Challengers Bangalore</td>\n",
       "      <td>263</td>\n",
       "    </tr>\n",
       "    <tr>\n",
       "      <th>2016</th>\n",
       "      <td>Royal Challengers Bangalore</td>\n",
       "      <td>248</td>\n",
       "    </tr>\n",
       "    <tr>\n",
       "      <th>2010</th>\n",
       "      <td>Chennai Super Kings</td>\n",
       "      <td>246</td>\n",
       "    </tr>\n",
       "    <tr>\n",
       "      <th>2018</th>\n",
       "      <td>Kolkata Knight Riders</td>\n",
       "      <td>245</td>\n",
       "    </tr>\n",
       "    <tr>\n",
       "      <th>2008</th>\n",
       "      <td>Chennai Super Kings</td>\n",
       "      <td>240</td>\n",
       "    </tr>\n",
       "    <tr>\n",
       "      <th>2021</th>\n",
       "      <td>Mumbai Indians</td>\n",
       "      <td>235</td>\n",
       "    </tr>\n",
       "    <tr>\n",
       "      <th>2015</th>\n",
       "      <td>Royal Challengers Bangalore</td>\n",
       "      <td>235</td>\n",
       "    </tr>\n",
       "    <tr>\n",
       "      <th>2011</th>\n",
       "      <td>Punjab Kings</td>\n",
       "      <td>232</td>\n",
       "    </tr>\n",
       "    <tr>\n",
       "      <th>2019</th>\n",
       "      <td>Kolkata Knight Riders</td>\n",
       "      <td>232</td>\n",
       "    </tr>\n",
       "    <tr>\n",
       "      <th>2014</th>\n",
       "      <td>Punjab Kings</td>\n",
       "      <td>231</td>\n",
       "    </tr>\n",
       "    <tr>\n",
       "      <th>2019</th>\n",
       "      <td>Sunrisers Hyderabad</td>\n",
       "      <td>231</td>\n",
       "    </tr>\n",
       "    <tr>\n",
       "      <th>2011</th>\n",
       "      <td>Delhi Capitals</td>\n",
       "      <td>231</td>\n",
       "    </tr>\n",
       "    <tr>\n",
       "      <th>2017</th>\n",
       "      <td>Punjab Kings</td>\n",
       "      <td>230</td>\n",
       "    </tr>\n",
       "    <tr>\n",
       "      <th>2020</th>\n",
       "      <td>Delhi Capitals</td>\n",
       "      <td>228</td>\n",
       "    </tr>\n",
       "    <tr>\n",
       "      <th>2016</th>\n",
       "      <td>Royal Challengers Bangalore</td>\n",
       "      <td>227</td>\n",
       "    </tr>\n",
       "    <tr>\n",
       "      <th>2015</th>\n",
       "      <td>Royal Challengers Bangalore</td>\n",
       "      <td>226</td>\n",
       "    </tr>\n",
       "    <tr>\n",
       "      <th>2020</th>\n",
       "      <td>Rajasthan Royals</td>\n",
       "      <td>226</td>\n",
       "    </tr>\n",
       "    <tr>\n",
       "      <th>2014</th>\n",
       "      <td>Punjab Kings</td>\n",
       "      <td>226</td>\n",
       "    </tr>\n",
       "    <tr>\n",
       "      <th>2013</th>\n",
       "      <td>Chennai Super Kings</td>\n",
       "      <td>223</td>\n",
       "    </tr>\n",
       "    <tr>\n",
       "      <th>2017</th>\n",
       "      <td>Mumbai Indians</td>\n",
       "      <td>223</td>\n",
       "    </tr>\n",
       "  </tbody>\n",
       "</table>\n",
       "</div>"
      ],
      "text/plain": [
       "                        BattingTeam  total_run\n",
       "Season                                        \n",
       "2013    Royal Challengers Bangalore        263\n",
       "2016    Royal Challengers Bangalore        248\n",
       "2010            Chennai Super Kings        246\n",
       "2018          Kolkata Knight Riders        245\n",
       "2008            Chennai Super Kings        240\n",
       "2021                 Mumbai Indians        235\n",
       "2015    Royal Challengers Bangalore        235\n",
       "2011                   Punjab Kings        232\n",
       "2019          Kolkata Knight Riders        232\n",
       "2014                   Punjab Kings        231\n",
       "2019            Sunrisers Hyderabad        231\n",
       "2011                 Delhi Capitals        231\n",
       "2017                   Punjab Kings        230\n",
       "2020                 Delhi Capitals        228\n",
       "2016    Royal Challengers Bangalore        227\n",
       "2015    Royal Challengers Bangalore        226\n",
       "2020               Rajasthan Royals        226\n",
       "2014                   Punjab Kings        226\n",
       "2013            Chennai Super Kings        223\n",
       "2017                 Mumbai Indians        223"
      ]
     },
     "execution_count": 26,
     "metadata": {},
     "output_type": "execute_result"
    }
   ],
   "source": [
    "highest_score = df.groupby(['Season','ID','BattingTeam']).sum()['total_run'].sort_values(ascending=False)[:20].reset_index().set_index('Season').drop('ID',axis=1)\n",
    "highest_score"
   ]
  },
  {
   "cell_type": "markdown",
   "id": "54ea3ebc",
   "metadata": {},
   "source": [
    "## -- Most 6's score in ipl"
   ]
  },
  {
   "cell_type": "code",
   "execution_count": 27,
   "id": "b1f0321f",
   "metadata": {
    "scrolled": false
   },
   "outputs": [
    {
     "data": {
      "text/plain": [
       "batter\n",
       "CH Gayle          359\n",
       "AB de Villiers    253\n",
       "RG Sharma         241\n",
       "MS Dhoni          229\n",
       "KA Pollard        224\n",
       "V Kohli           219\n",
       "DA Warner         216\n",
       "SK Raina          204\n",
       "SR Watson         190\n",
       "RV Uthappa        182\n",
       "Name: batsman_run, dtype: int64"
      ]
     },
     "execution_count": 27,
     "metadata": {},
     "output_type": "execute_result"
    }
   ],
   "source": [
    "df[df['batsman_run'] == 6].groupby('batter').count()['batsman_run'].sort_values(ascending=False)[:10]"
   ]
  },
  {
   "cell_type": "markdown",
   "id": "61cf7261",
   "metadata": {},
   "source": [
    "## -- Most 4's score in ipl"
   ]
  },
  {
   "cell_type": "code",
   "execution_count": 28,
   "id": "b53b2bd5",
   "metadata": {
    "scrolled": true
   },
   "outputs": [
    {
     "data": {
      "text/plain": [
       "batter\n",
       "S Dhawan          701\n",
       "V Kohli           581\n",
       "DA Warner         577\n",
       "RG Sharma         519\n",
       "SK Raina          506\n",
       "G Gambhir         492\n",
       "RV Uthappa        481\n",
       "AM Rahane         431\n",
       "KD Karthik        426\n",
       "AB de Villiers    414\n",
       "Name: batsman_run, dtype: int64"
      ]
     },
     "execution_count": 28,
     "metadata": {},
     "output_type": "execute_result"
    }
   ],
   "source": [
    "df[df['batsman_run'] == 4].groupby('batter').count()['batsman_run'].sort_values(ascending=False)[:10]"
   ]
  },
  {
   "cell_type": "markdown",
   "id": "bc1b4a2b",
   "metadata": {},
   "source": [
    "## -- Most 6's in death overs"
   ]
  },
  {
   "cell_type": "code",
   "execution_count": 29,
   "id": "de80386a",
   "metadata": {
    "scrolled": false
   },
   "outputs": [
    {
     "data": {
      "text/plain": [
       "batter\n",
       "MS Dhoni          173\n",
       "KA Pollard        144\n",
       "AB de Villiers    140\n",
       "AD Russell         95\n",
       "RG Sharma          90\n",
       "V Kohli            79\n",
       "HH Pandya          76\n",
       "KD Karthik         75\n",
       "Yuvraj Singh       68\n",
       "DA Miller          67\n",
       "Name: batsman_run, dtype: int64"
      ]
     },
     "execution_count": 29,
     "metadata": {},
     "output_type": "execute_result"
    }
   ],
   "source": [
    "df[(df['batsman_run'] == 6) & (df['overs']>=16)].groupby('batter').count()['batsman_run'].sort_values(ascending=False)[:10]"
   ]
  },
  {
   "cell_type": "markdown",
   "id": "a271008d",
   "metadata": {},
   "source": [
    "## -- most 6's in last over"
   ]
  },
  {
   "cell_type": "code",
   "execution_count": 30,
   "id": "b9cbce05",
   "metadata": {
    "scrolled": true
   },
   "outputs": [
    {
     "data": {
      "text/plain": [
       "batter\n",
       "MS Dhoni           52\n",
       "KA Pollard         33\n",
       "RA Jadeja          26\n",
       "HH Pandya          25\n",
       "RG Sharma          23\n",
       "AB de Villiers     19\n",
       "DA Miller          17\n",
       "KD Karthik         16\n",
       "Harbhajan Singh    15\n",
       "DJ Bravo           15\n",
       "Name: batsman_run, dtype: int64"
      ]
     },
     "execution_count": 30,
     "metadata": {},
     "output_type": "execute_result"
    }
   ],
   "source": [
    "df[(df['batsman_run'] == 6) & (df['overs']==20)].groupby('batter').count()['batsman_run'].sort_values(ascending=False).head(10) "
   ]
  },
  {
   "cell_type": "markdown",
   "id": "cb6edd52",
   "metadata": {},
   "source": [
    "## -- Most 4's in death overs"
   ]
  },
  {
   "cell_type": "code",
   "execution_count": 31,
   "id": "6d927f0a",
   "metadata": {
    "scrolled": false
   },
   "outputs": [
    {
     "data": {
      "text/plain": [
       "batter\n",
       "MS Dhoni          224\n",
       "KD Karthik        141\n",
       "AB de Villiers    135\n",
       "KA Pollard        129\n",
       "RG Sharma         123\n",
       "RA Jadeja         103\n",
       "YK Pathan          93\n",
       "V Kohli            92\n",
       "HH Pandya          82\n",
       "AT Rayudu          82\n",
       "Name: batsman_run, dtype: int64"
      ]
     },
     "execution_count": 31,
     "metadata": {},
     "output_type": "execute_result"
    }
   ],
   "source": [
    "df[(df['batsman_run'] == 4) & (df['overs']>=16)].groupby('batter').count()['batsman_run'].sort_values(ascending=False)[:10]"
   ]
  },
  {
   "cell_type": "markdown",
   "id": "7769d238",
   "metadata": {},
   "source": [
    "## -- most 4's in last over"
   ]
  },
  {
   "cell_type": "code",
   "execution_count": 32,
   "id": "019dd93b",
   "metadata": {
    "scrolled": true
   },
   "outputs": [
    {
     "data": {
      "text/plain": [
       "batter\n",
       "MS Dhoni      48\n",
       "KA Pollard    26\n",
       "PP Chawla     23\n",
       "KD Karthik    22\n",
       "RG Sharma     18\n",
       "MK Tiwary     17\n",
       "HH Pandya     16\n",
       "V Kohli       15\n",
       "MP Stoinis    15\n",
       "B Kumar       15\n",
       "Name: batsman_run, dtype: int64"
      ]
     },
     "execution_count": 32,
     "metadata": {},
     "output_type": "execute_result"
    }
   ],
   "source": [
    "df[(df['batsman_run'] == 4) & (df['overs']==20)].groupby('batter').count()['batsman_run'].sort_values(ascending=False).head(10) "
   ]
  },
  {
   "cell_type": "markdown",
   "id": "1e750d30",
   "metadata": {},
   "source": [
    "## -- Most 6's in powerplay"
   ]
  },
  {
   "cell_type": "code",
   "execution_count": 33,
   "id": "ce715e02",
   "metadata": {
    "scrolled": false
   },
   "outputs": [
    {
     "data": {
      "text/plain": [
       "batter\n",
       "CH Gayle       145\n",
       "DA Warner       89\n",
       "S Dhawan        71\n",
       "BB McCullum     70\n",
       "Q de Kock       65\n",
       "RG Sharma       63\n",
       "KL Rahul        62\n",
       "JC Buttler      55\n",
       "SK Raina        55\n",
       "SR Watson       54\n",
       "Name: batsman_run, dtype: int64"
      ]
     },
     "execution_count": 33,
     "metadata": {},
     "output_type": "execute_result"
    }
   ],
   "source": [
    "df[(df['batsman_run'] == 6) & (df['overs']<=6)].groupby('batter').count()['batsman_run'].sort_values(ascending=False)[:10]"
   ]
  },
  {
   "cell_type": "markdown",
   "id": "5a4bfb98",
   "metadata": {},
   "source": [
    "## -- Most 6's in 1st over"
   ]
  },
  {
   "cell_type": "code",
   "execution_count": 34,
   "id": "1a15b4f0",
   "metadata": {
    "scrolled": true
   },
   "outputs": [
    {
     "data": {
      "text/plain": [
       "batter\n",
       "CH Gayle       14\n",
       "V Sehwag       12\n",
       "RG Sharma      11\n",
       "BB McCullum    10\n",
       "KL Rahul        9\n",
       "V Kohli         7\n",
       "DA Warner       6\n",
       "SP Narine       6\n",
       "NV Ojha         5\n",
       "JD Ryder        4\n",
       "Name: batsman_run, dtype: int64"
      ]
     },
     "execution_count": 34,
     "metadata": {},
     "output_type": "execute_result"
    }
   ],
   "source": [
    "df[(df['batsman_run'] == 6) & (df['overs']==1)].groupby('batter').count()['batsman_run'].sort_values(ascending=False)[:10]"
   ]
  },
  {
   "cell_type": "markdown",
   "id": "eddbc8b9",
   "metadata": {},
   "source": [
    "## -- Most 4's in powerplay"
   ]
  },
  {
   "cell_type": "code",
   "execution_count": 35,
   "id": "e8a7178f",
   "metadata": {
    "scrolled": false
   },
   "outputs": [
    {
     "data": {
      "text/plain": [
       "batter\n",
       "S Dhawan      415\n",
       "DA Warner     370\n",
       "G Gambhir     310\n",
       "PA Patel      283\n",
       "AM Rahane     273\n",
       "V Kohli       271\n",
       "CH Gayle      267\n",
       "RV Uthappa    261\n",
       "V Sehwag      230\n",
       "SK Raina      198\n",
       "Name: batsman_run, dtype: int64"
      ]
     },
     "execution_count": 35,
     "metadata": {},
     "output_type": "execute_result"
    }
   ],
   "source": [
    "df[(df['batsman_run'] == 4) & (df['overs']<=6)].groupby('batter').count()['batsman_run'].sort_values(ascending=False)[:10]"
   ]
  },
  {
   "cell_type": "markdown",
   "id": "8acc0e16",
   "metadata": {},
   "source": [
    "## --  Most 4's in 1st over"
   ]
  },
  {
   "cell_type": "code",
   "execution_count": 36,
   "id": "cee8f4e7",
   "metadata": {
    "scrolled": true
   },
   "outputs": [
    {
     "data": {
      "text/plain": [
       "batter\n",
       "S Dhawan        62\n",
       "AM Rahane       49\n",
       "AC Gilchrist    49\n",
       "DA Warner       49\n",
       "V Kohli         47\n",
       "V Sehwag        42\n",
       "DR Smith        41\n",
       "PA Patel        41\n",
       "CH Gayle        41\n",
       "G Gambhir       40\n",
       "Name: batsman_run, dtype: int64"
      ]
     },
     "execution_count": 36,
     "metadata": {},
     "output_type": "execute_result"
    }
   ],
   "source": [
    "df[(df['batsman_run'] == 4) & (df['overs']==1)].groupby('batter').count()['batsman_run'].sort_values(ascending=False)[:10]"
   ]
  },
  {
   "cell_type": "markdown",
   "id": "ca8a44fd",
   "metadata": {},
   "source": [
    "## -- Total Wickets in IPL"
   ]
  },
  {
   "cell_type": "code",
   "execution_count": 37,
   "id": "ce2b0953",
   "metadata": {},
   "outputs": [
    {
     "data": {
      "text/plain": [
       "bowler\n",
       "DJ Bravo           183\n",
       "SL Malinga         170\n",
       "YS Chahal          166\n",
       "A Mishra           166\n",
       "R Ashwin           157\n",
       "PP Chawla          157\n",
       "B Kumar            154\n",
       "SP Narine          152\n",
       "Harbhajan Singh    150\n",
       "JJ Bumrah          148\n",
       "UT Yadav           135\n",
       "RA Jadeja          132\n",
       "Sandeep Sharma     114\n",
       "Rashid Khan        112\n",
       "A Nehra            106\n",
       "R Vinay Kumar      105\n",
       "Z Khan             102\n",
       "K Rabada           102\n",
       "AR Patel           101\n",
       "Mohammed Shami      99\n",
       "Name: kind, dtype: int64"
      ]
     },
     "execution_count": 37,
     "metadata": {},
     "output_type": "execute_result"
    }
   ],
   "source": [
    "total_wickets=df[df['kind'].isin(dismissal)]\n",
    "total_wickets.groupby('bowler')['kind'].count().sort_values(ascending=False)[:20]"
   ]
  },
  {
   "cell_type": "markdown",
   "id": "e158ed62",
   "metadata": {},
   "source": [
    "## -- Most wickets in death overs"
   ]
  },
  {
   "cell_type": "code",
   "execution_count": 38,
   "id": "8ad23920",
   "metadata": {
    "scrolled": true
   },
   "outputs": [
    {
     "name": "stderr",
     "output_type": "stream",
     "text": [
      "C:\\Users\\YUDHISTER\\AppData\\Local\\Temp\\ipykernel_14248\\1276161961.py:2: UserWarning: Boolean Series key will be reindexed to match DataFrame index.\n",
      "  out_death_over = out_death_over[df['overs']>=16]\n"
     ]
    }
   ],
   "source": [
    "out_death_over=df[df['kind'].isin(dismissal)]\n",
    "out_death_over = out_death_over[df['overs']>=16]"
   ]
  },
  {
   "cell_type": "code",
   "execution_count": 39,
   "id": "09d5976d",
   "metadata": {},
   "outputs": [
    {
     "data": {
      "text/plain": [
       "bowler\n",
       "DJ Bravo          115\n",
       "SL Malinga        108\n",
       "B Kumar            90\n",
       "JJ Bumrah          80\n",
       "SP Narine          67\n",
       "CH Morris          58\n",
       "K Rabada           57\n",
       "Mohammed Shami     57\n",
       "A Nehra            54\n",
       "DW Steyn           50\n",
       "UT Yadav           50\n",
       "R Vinay Kumar      47\n",
       "HV Patel           46\n",
       "JD Unadkat         46\n",
       "RP Singh           45\n",
       "YS Chahal          43\n",
       "SR Watson          42\n",
       "MM Sharma          41\n",
       "TA Boult           40\n",
       "Sandeep Sharma     39\n",
       "Name: kind, dtype: int64"
      ]
     },
     "execution_count": 39,
     "metadata": {},
     "output_type": "execute_result"
    }
   ],
   "source": [
    "wickets_death_over = out_death_over.groupby('bowler')['kind'].count().sort_values(ascending=False)\n",
    "wickets_death_over.head(20)"
   ]
  },
  {
   "cell_type": "markdown",
   "id": "6d965d5b",
   "metadata": {},
   "source": [
    "## -- Most wickets in powerplay"
   ]
  },
  {
   "cell_type": "code",
   "execution_count": 40,
   "id": "2f7c15ab",
   "metadata": {},
   "outputs": [
    {
     "name": "stderr",
     "output_type": "stream",
     "text": [
      "C:\\Users\\YUDHISTER\\AppData\\Local\\Temp\\ipykernel_14248\\2536856661.py:2: UserWarning: Boolean Series key will be reindexed to match DataFrame index.\n",
      "  out_powerplay = out_powerplay[df['overs']<=6]\n"
     ]
    }
   ],
   "source": [
    "out_powerplay=df[df['kind'].isin(dismissal)]\n",
    "out_powerplay = out_powerplay[df['overs']<=6]"
   ]
  },
  {
   "cell_type": "code",
   "execution_count": 41,
   "id": "173af51a",
   "metadata": {},
   "outputs": [
    {
     "data": {
      "text/plain": [
       "bowler\n",
       "B Kumar           55\n",
       "Sandeep Sharma    54\n",
       "UT Yadav          53\n",
       "Z Khan            52\n",
       "R Ashwin          46\n",
       "DS Kulkarni       44\n",
       "I Sharma          44\n",
       "DL Chahar         43\n",
       "A Nehra           40\n",
       "P Kumar           40\n",
       "TA Boult          40\n",
       "SL Malinga        37\n",
       "M Morkel          36\n",
       "RP Singh          35\n",
       "MM Sharma         35\n",
       "DW Steyn          34\n",
       "JA Morkel         34\n",
       "SR Watson         34\n",
       "AB Dinda          33\n",
       "MJ McClenaghan    31\n",
       "Name: kind, dtype: int64"
      ]
     },
     "execution_count": 41,
     "metadata": {},
     "output_type": "execute_result"
    }
   ],
   "source": [
    "wickets_powerplay = out_powerplay.groupby('bowler')['kind'].count().sort_values(ascending=False)\n",
    "wickets_powerplay.head(20)"
   ]
  },
  {
   "cell_type": "markdown",
   "id": "ba0b8724",
   "metadata": {},
   "source": [
    "## -- Individual highest score in IPL history"
   ]
  },
  {
   "cell_type": "code",
   "execution_count": 42,
   "id": "8c625a7a",
   "metadata": {
    "scrolled": false
   },
   "outputs": [
    {
     "data": {
      "text/html": [
       "<div>\n",
       "<style scoped>\n",
       "    .dataframe tbody tr th:only-of-type {\n",
       "        vertical-align: middle;\n",
       "    }\n",
       "\n",
       "    .dataframe tbody tr th {\n",
       "        vertical-align: top;\n",
       "    }\n",
       "\n",
       "    .dataframe thead th {\n",
       "        text-align: right;\n",
       "    }\n",
       "</style>\n",
       "<table border=\"1\" class=\"dataframe\">\n",
       "  <thead>\n",
       "    <tr style=\"text-align: right;\">\n",
       "      <th></th>\n",
       "      <th>batsman_run</th>\n",
       "    </tr>\n",
       "    <tr>\n",
       "      <th>batter</th>\n",
       "      <th></th>\n",
       "    </tr>\n",
       "  </thead>\n",
       "  <tbody>\n",
       "    <tr>\n",
       "      <th>CH Gayle</th>\n",
       "      <td>175</td>\n",
       "    </tr>\n",
       "    <tr>\n",
       "      <th>BB McCullum</th>\n",
       "      <td>158</td>\n",
       "    </tr>\n",
       "    <tr>\n",
       "      <th>Q de Kock</th>\n",
       "      <td>140</td>\n",
       "    </tr>\n",
       "    <tr>\n",
       "      <th>AB de Villiers</th>\n",
       "      <td>133</td>\n",
       "    </tr>\n",
       "    <tr>\n",
       "      <th>KL Rahul</th>\n",
       "      <td>132</td>\n",
       "    </tr>\n",
       "    <tr>\n",
       "      <th>AB de Villiers</th>\n",
       "      <td>129</td>\n",
       "    </tr>\n",
       "    <tr>\n",
       "      <th>RR Pant</th>\n",
       "      <td>128</td>\n",
       "    </tr>\n",
       "    <tr>\n",
       "      <th>CH Gayle</th>\n",
       "      <td>128</td>\n",
       "    </tr>\n",
       "    <tr>\n",
       "      <th>M Vijay</th>\n",
       "      <td>127</td>\n",
       "    </tr>\n",
       "    <tr>\n",
       "      <th>DA Warner</th>\n",
       "      <td>126</td>\n",
       "    </tr>\n",
       "    <tr>\n",
       "      <th>JC Buttler</th>\n",
       "      <td>124</td>\n",
       "    </tr>\n",
       "    <tr>\n",
       "      <th>V Sehwag</th>\n",
       "      <td>122</td>\n",
       "    </tr>\n",
       "    <tr>\n",
       "      <th>PC Valthaty</th>\n",
       "      <td>120</td>\n",
       "    </tr>\n",
       "    <tr>\n",
       "      <th>V Sehwag</th>\n",
       "      <td>119</td>\n",
       "    </tr>\n",
       "    <tr>\n",
       "      <th>SV Samson</th>\n",
       "      <td>119</td>\n",
       "    </tr>\n",
       "  </tbody>\n",
       "</table>\n",
       "</div>"
      ],
      "text/plain": [
       "                batsman_run\n",
       "batter                     \n",
       "CH Gayle                175\n",
       "BB McCullum             158\n",
       "Q de Kock               140\n",
       "AB de Villiers          133\n",
       "KL Rahul                132\n",
       "AB de Villiers          129\n",
       "RR Pant                 128\n",
       "CH Gayle                128\n",
       "M Vijay                 127\n",
       "DA Warner               126\n",
       "JC Buttler              124\n",
       "V Sehwag                122\n",
       "PC Valthaty             120\n",
       "V Sehwag                119\n",
       "SV Samson               119"
      ]
     },
     "execution_count": 42,
     "metadata": {},
     "output_type": "execute_result"
    }
   ],
   "source": [
    "df.groupby(['ID','batter'])['batsman_run'].sum().sort_values(ascending=False).reset_index().set_index('batter').drop('ID',axis=1)[:15]"
   ]
  },
  {
   "cell_type": "markdown",
   "id": "3f504cd9",
   "metadata": {},
   "source": [
    "## --  number of centuries hit by player"
   ]
  },
  {
   "cell_type": "code",
   "execution_count": 43,
   "id": "62d6fc27",
   "metadata": {
    "scrolled": false
   },
   "outputs": [
    {
     "data": {
      "text/plain": [
       "batter\n",
       "CH Gayle          6\n",
       "JC Buttler        5\n",
       "V Kohli           5\n",
       "DA Warner         4\n",
       "KL Rahul          4\n",
       "SR Watson         4\n",
       "AB de Villiers    3\n",
       "SV Samson         3\n",
       "AM Rahane         2\n",
       "S Dhawan          2\n",
       "BA Stokes         2\n",
       "BB McCullum       2\n",
       "AC Gilchrist      2\n",
       "V Sehwag          2\n",
       "HM Amla           2\n",
       "Name: batsman_run, dtype: int64"
      ]
     },
     "execution_count": 43,
     "metadata": {},
     "output_type": "execute_result"
    }
   ],
   "source": [
    "grouped_df = df.groupby(['ID','batter'])['batsman_run'].sum().sort_values(ascending=False)\n",
    "df_result = grouped_df.to_frame()\n",
    "df_result[df_result['batsman_run']>=100].groupby('batter').count()['batsman_run'].sort_values(ascending=False).head(15)"
   ]
  },
  {
   "cell_type": "markdown",
   "id": "6727e147",
   "metadata": {},
   "source": [
    "## --  number of half-centuries hit by player"
   ]
  },
  {
   "cell_type": "code",
   "execution_count": 44,
   "id": "2bdb697d",
   "metadata": {
    "scrolled": false
   },
   "outputs": [
    {
     "data": {
      "text/plain": [
       "batter\n",
       "DA Warner         55\n",
       "S Dhawan          47\n",
       "V Kohli           45\n",
       "AB de Villiers    41\n",
       "RG Sharma         40\n",
       "SK Raina          39\n",
       "G Gambhir         36\n",
       "CH Gayle          32\n",
       "KL Rahul          31\n",
       "AM Rahane         28\n",
       "RV Uthappa        27\n",
       "F du Plessis      25\n",
       "MS Dhoni          24\n",
       "AT Rayudu         22\n",
       "MK Pandey         21\n",
       "Name: batsman_run, dtype: int64"
      ]
     },
     "execution_count": 44,
     "metadata": {},
     "output_type": "execute_result"
    }
   ],
   "source": [
    "df_result[(df_result['batsman_run']>=50)&(df_result['batsman_run']<100)].groupby('batter').count()['batsman_run'].sort_values(ascending=False).head(15) "
   ]
  },
  {
   "cell_type": "markdown",
   "id": "c2c9edf9",
   "metadata": {},
   "source": [
    "## -- most 6's hit by batsman in each season of IPL\n"
   ]
  },
  {
   "cell_type": "code",
   "execution_count": 45,
   "id": "3ad33993",
   "metadata": {},
   "outputs": [],
   "source": [
    "batsman_six = df[df['batsman_run']==6]"
   ]
  },
  {
   "cell_type": "code",
   "execution_count": 46,
   "id": "07fcf19e",
   "metadata": {},
   "outputs": [
    {
     "data": {
      "text/html": [
       "<div>\n",
       "<style scoped>\n",
       "    .dataframe tbody tr th:only-of-type {\n",
       "        vertical-align: middle;\n",
       "    }\n",
       "\n",
       "    .dataframe tbody tr th {\n",
       "        vertical-align: top;\n",
       "    }\n",
       "\n",
       "    .dataframe thead th {\n",
       "        text-align: right;\n",
       "    }\n",
       "</style>\n",
       "<table border=\"1\" class=\"dataframe\">\n",
       "  <thead>\n",
       "    <tr style=\"text-align: right;\">\n",
       "      <th></th>\n",
       "      <th>batter</th>\n",
       "      <th>batsman_run</th>\n",
       "    </tr>\n",
       "    <tr>\n",
       "      <th>Season</th>\n",
       "      <th></th>\n",
       "      <th></th>\n",
       "    </tr>\n",
       "  </thead>\n",
       "  <tbody>\n",
       "    <tr>\n",
       "      <th>2022</th>\n",
       "      <td>JC Buttler</td>\n",
       "      <td>45</td>\n",
       "    </tr>\n",
       "    <tr>\n",
       "      <th>2021</th>\n",
       "      <td>KL Rahul</td>\n",
       "      <td>30</td>\n",
       "    </tr>\n",
       "    <tr>\n",
       "      <th>2020</th>\n",
       "      <td>Ishan Kishan</td>\n",
       "      <td>30</td>\n",
       "    </tr>\n",
       "    <tr>\n",
       "      <th>2019</th>\n",
       "      <td>AD Russell</td>\n",
       "      <td>52</td>\n",
       "    </tr>\n",
       "    <tr>\n",
       "      <th>2018</th>\n",
       "      <td>RR Pant</td>\n",
       "      <td>37</td>\n",
       "    </tr>\n",
       "    <tr>\n",
       "      <th>2017</th>\n",
       "      <td>DA Warner</td>\n",
       "      <td>26</td>\n",
       "    </tr>\n",
       "    <tr>\n",
       "      <th>2016</th>\n",
       "      <td>V Kohli</td>\n",
       "      <td>38</td>\n",
       "    </tr>\n",
       "    <tr>\n",
       "      <th>2015</th>\n",
       "      <td>CH Gayle</td>\n",
       "      <td>38</td>\n",
       "    </tr>\n",
       "    <tr>\n",
       "      <th>2014</th>\n",
       "      <td>GJ Maxwell</td>\n",
       "      <td>36</td>\n",
       "    </tr>\n",
       "    <tr>\n",
       "      <th>2013</th>\n",
       "      <td>CH Gayle</td>\n",
       "      <td>52</td>\n",
       "    </tr>\n",
       "    <tr>\n",
       "      <th>2012</th>\n",
       "      <td>CH Gayle</td>\n",
       "      <td>59</td>\n",
       "    </tr>\n",
       "    <tr>\n",
       "      <th>2011</th>\n",
       "      <td>CH Gayle</td>\n",
       "      <td>44</td>\n",
       "    </tr>\n",
       "    <tr>\n",
       "      <th>2010</th>\n",
       "      <td>RV Uthappa</td>\n",
       "      <td>27</td>\n",
       "    </tr>\n",
       "    <tr>\n",
       "      <th>2009</th>\n",
       "      <td>AC Gilchrist</td>\n",
       "      <td>29</td>\n",
       "    </tr>\n",
       "    <tr>\n",
       "      <th>2008</th>\n",
       "      <td>ST Jayasuriya</td>\n",
       "      <td>31</td>\n",
       "    </tr>\n",
       "  </tbody>\n",
       "</table>\n",
       "</div>"
      ],
      "text/plain": [
       "               batter  batsman_run\n",
       "Season                            \n",
       "2022       JC Buttler           45\n",
       "2021         KL Rahul           30\n",
       "2020     Ishan Kishan           30\n",
       "2019       AD Russell           52\n",
       "2018          RR Pant           37\n",
       "2017        DA Warner           26\n",
       "2016          V Kohli           38\n",
       "2015         CH Gayle           38\n",
       "2014       GJ Maxwell           36\n",
       "2013         CH Gayle           52\n",
       "2012         CH Gayle           59\n",
       "2011         CH Gayle           44\n",
       "2010       RV Uthappa           27\n",
       "2009     AC Gilchrist           29\n",
       "2008    ST Jayasuriya           31"
      ]
     },
     "execution_count": 46,
     "metadata": {},
     "output_type": "execute_result"
    }
   ],
   "source": [
    "batsman_six = batsman_six.groupby(['Season','batter']).count()['batsman_run'].reset_index().sort_values(by=['Season', 'batsman_run'], ascending=False)\n",
    "batsman_six.groupby('Season').head(1).set_index('Season')"
   ]
  },
  {
   "cell_type": "markdown",
   "id": "7883bc41",
   "metadata": {},
   "source": [
    "## -- most 4's hit by batsman in each season of IPL\n"
   ]
  },
  {
   "cell_type": "code",
   "execution_count": 47,
   "id": "da78f360",
   "metadata": {},
   "outputs": [],
   "source": [
    "batsman_four = df[df['batsman_run']==4]"
   ]
  },
  {
   "cell_type": "code",
   "execution_count": 48,
   "id": "44190183",
   "metadata": {},
   "outputs": [
    {
     "data": {
      "text/html": [
       "<div>\n",
       "<style scoped>\n",
       "    .dataframe tbody tr th:only-of-type {\n",
       "        vertical-align: middle;\n",
       "    }\n",
       "\n",
       "    .dataframe tbody tr th {\n",
       "        vertical-align: top;\n",
       "    }\n",
       "\n",
       "    .dataframe thead th {\n",
       "        text-align: right;\n",
       "    }\n",
       "</style>\n",
       "<table border=\"1\" class=\"dataframe\">\n",
       "  <thead>\n",
       "    <tr style=\"text-align: right;\">\n",
       "      <th></th>\n",
       "      <th>batter</th>\n",
       "      <th>batsman_run</th>\n",
       "    </tr>\n",
       "    <tr>\n",
       "      <th>Season</th>\n",
       "      <th></th>\n",
       "      <th></th>\n",
       "    </tr>\n",
       "  </thead>\n",
       "  <tbody>\n",
       "    <tr>\n",
       "      <th>2022</th>\n",
       "      <td>JC Buttler</td>\n",
       "      <td>84</td>\n",
       "    </tr>\n",
       "    <tr>\n",
       "      <th>2021</th>\n",
       "      <td>RD Gaikwad</td>\n",
       "      <td>64</td>\n",
       "    </tr>\n",
       "    <tr>\n",
       "      <th>2020</th>\n",
       "      <td>S Dhawan</td>\n",
       "      <td>67</td>\n",
       "    </tr>\n",
       "    <tr>\n",
       "      <th>2019</th>\n",
       "      <td>S Dhawan</td>\n",
       "      <td>64</td>\n",
       "    </tr>\n",
       "    <tr>\n",
       "      <th>2018</th>\n",
       "      <td>RR Pant</td>\n",
       "      <td>68</td>\n",
       "    </tr>\n",
       "    <tr>\n",
       "      <th>2017</th>\n",
       "      <td>DA Warner</td>\n",
       "      <td>63</td>\n",
       "    </tr>\n",
       "    <tr>\n",
       "      <th>2016</th>\n",
       "      <td>DA Warner</td>\n",
       "      <td>88</td>\n",
       "    </tr>\n",
       "    <tr>\n",
       "      <th>2015</th>\n",
       "      <td>DA Warner</td>\n",
       "      <td>65</td>\n",
       "    </tr>\n",
       "    <tr>\n",
       "      <th>2014</th>\n",
       "      <td>RV Uthappa</td>\n",
       "      <td>74</td>\n",
       "    </tr>\n",
       "    <tr>\n",
       "      <th>2013</th>\n",
       "      <td>MEK Hussey</td>\n",
       "      <td>81</td>\n",
       "    </tr>\n",
       "    <tr>\n",
       "      <th>2012</th>\n",
       "      <td>AM Rahane</td>\n",
       "      <td>73</td>\n",
       "    </tr>\n",
       "    <tr>\n",
       "      <th>2011</th>\n",
       "      <td>SR Tendulkar</td>\n",
       "      <td>67</td>\n",
       "    </tr>\n",
       "    <tr>\n",
       "      <th>2010</th>\n",
       "      <td>SR Tendulkar</td>\n",
       "      <td>86</td>\n",
       "    </tr>\n",
       "    <tr>\n",
       "      <th>2009</th>\n",
       "      <td>ML Hayden</td>\n",
       "      <td>60</td>\n",
       "    </tr>\n",
       "    <tr>\n",
       "      <th>2008</th>\n",
       "      <td>G Gambhir</td>\n",
       "      <td>68</td>\n",
       "    </tr>\n",
       "  </tbody>\n",
       "</table>\n",
       "</div>"
      ],
      "text/plain": [
       "              batter  batsman_run\n",
       "Season                           \n",
       "2022      JC Buttler           84\n",
       "2021      RD Gaikwad           64\n",
       "2020        S Dhawan           67\n",
       "2019        S Dhawan           64\n",
       "2018         RR Pant           68\n",
       "2017       DA Warner           63\n",
       "2016       DA Warner           88\n",
       "2015       DA Warner           65\n",
       "2014      RV Uthappa           74\n",
       "2013      MEK Hussey           81\n",
       "2012       AM Rahane           73\n",
       "2011    SR Tendulkar           67\n",
       "2010    SR Tendulkar           86\n",
       "2009       ML Hayden           60\n",
       "2008       G Gambhir           68"
      ]
     },
     "execution_count": 48,
     "metadata": {},
     "output_type": "execute_result"
    }
   ],
   "source": [
    "batsman_four= batsman_four.groupby(['Season','batter']).count()['batsman_run'].reset_index().sort_values(by=['Season', 'batsman_run'], ascending=False)\n",
    "batsman_four.groupby('Season').head(1).set_index('Season')"
   ]
  },
  {
   "cell_type": "markdown",
   "id": "938bb703",
   "metadata": {},
   "source": [
    "## -- Season Wise highest Score of top 3 Batsman "
   ]
  },
  {
   "cell_type": "code",
   "execution_count": 49,
   "id": "fc3b7079",
   "metadata": {
    "scrolled": false
   },
   "outputs": [
    {
     "data": {
      "text/html": [
       "<div>\n",
       "<style scoped>\n",
       "    .dataframe tbody tr th:only-of-type {\n",
       "        vertical-align: middle;\n",
       "    }\n",
       "\n",
       "    .dataframe tbody tr th {\n",
       "        vertical-align: top;\n",
       "    }\n",
       "\n",
       "    .dataframe thead th {\n",
       "        text-align: right;\n",
       "    }\n",
       "</style>\n",
       "<table border=\"1\" class=\"dataframe\">\n",
       "  <thead>\n",
       "    <tr style=\"text-align: right;\">\n",
       "      <th></th>\n",
       "      <th>batter</th>\n",
       "      <th>batsman_run</th>\n",
       "    </tr>\n",
       "    <tr>\n",
       "      <th>Season</th>\n",
       "      <th></th>\n",
       "      <th></th>\n",
       "    </tr>\n",
       "  </thead>\n",
       "  <tbody>\n",
       "    <tr>\n",
       "      <th>2022</th>\n",
       "      <td>JC Buttler</td>\n",
       "      <td>863</td>\n",
       "    </tr>\n",
       "    <tr>\n",
       "      <th>2022</th>\n",
       "      <td>KL Rahul</td>\n",
       "      <td>616</td>\n",
       "    </tr>\n",
       "    <tr>\n",
       "      <th>2022</th>\n",
       "      <td>Q de Kock</td>\n",
       "      <td>508</td>\n",
       "    </tr>\n",
       "    <tr>\n",
       "      <th>2021</th>\n",
       "      <td>RD Gaikwad</td>\n",
       "      <td>635</td>\n",
       "    </tr>\n",
       "    <tr>\n",
       "      <th>2021</th>\n",
       "      <td>F du Plessis</td>\n",
       "      <td>633</td>\n",
       "    </tr>\n",
       "    <tr>\n",
       "      <th>2021</th>\n",
       "      <td>KL Rahul</td>\n",
       "      <td>626</td>\n",
       "    </tr>\n",
       "    <tr>\n",
       "      <th>2020</th>\n",
       "      <td>KL Rahul</td>\n",
       "      <td>676</td>\n",
       "    </tr>\n",
       "    <tr>\n",
       "      <th>2020</th>\n",
       "      <td>S Dhawan</td>\n",
       "      <td>618</td>\n",
       "    </tr>\n",
       "    <tr>\n",
       "      <th>2020</th>\n",
       "      <td>DA Warner</td>\n",
       "      <td>548</td>\n",
       "    </tr>\n",
       "    <tr>\n",
       "      <th>2019</th>\n",
       "      <td>DA Warner</td>\n",
       "      <td>692</td>\n",
       "    </tr>\n",
       "    <tr>\n",
       "      <th>2019</th>\n",
       "      <td>KL Rahul</td>\n",
       "      <td>593</td>\n",
       "    </tr>\n",
       "    <tr>\n",
       "      <th>2019</th>\n",
       "      <td>Q de Kock</td>\n",
       "      <td>529</td>\n",
       "    </tr>\n",
       "    <tr>\n",
       "      <th>2018</th>\n",
       "      <td>KS Williamson</td>\n",
       "      <td>735</td>\n",
       "    </tr>\n",
       "    <tr>\n",
       "      <th>2018</th>\n",
       "      <td>RR Pant</td>\n",
       "      <td>684</td>\n",
       "    </tr>\n",
       "    <tr>\n",
       "      <th>2018</th>\n",
       "      <td>KL Rahul</td>\n",
       "      <td>659</td>\n",
       "    </tr>\n",
       "    <tr>\n",
       "      <th>2017</th>\n",
       "      <td>DA Warner</td>\n",
       "      <td>641</td>\n",
       "    </tr>\n",
       "    <tr>\n",
       "      <th>2017</th>\n",
       "      <td>G Gambhir</td>\n",
       "      <td>498</td>\n",
       "    </tr>\n",
       "    <tr>\n",
       "      <th>2017</th>\n",
       "      <td>S Dhawan</td>\n",
       "      <td>479</td>\n",
       "    </tr>\n",
       "    <tr>\n",
       "      <th>2016</th>\n",
       "      <td>V Kohli</td>\n",
       "      <td>973</td>\n",
       "    </tr>\n",
       "    <tr>\n",
       "      <th>2016</th>\n",
       "      <td>DA Warner</td>\n",
       "      <td>848</td>\n",
       "    </tr>\n",
       "    <tr>\n",
       "      <th>2016</th>\n",
       "      <td>AB de Villiers</td>\n",
       "      <td>687</td>\n",
       "    </tr>\n",
       "    <tr>\n",
       "      <th>2015</th>\n",
       "      <td>DA Warner</td>\n",
       "      <td>562</td>\n",
       "    </tr>\n",
       "    <tr>\n",
       "      <th>2015</th>\n",
       "      <td>AM Rahane</td>\n",
       "      <td>540</td>\n",
       "    </tr>\n",
       "    <tr>\n",
       "      <th>2015</th>\n",
       "      <td>LMP Simmons</td>\n",
       "      <td>540</td>\n",
       "    </tr>\n",
       "    <tr>\n",
       "      <th>2014</th>\n",
       "      <td>RV Uthappa</td>\n",
       "      <td>660</td>\n",
       "    </tr>\n",
       "    <tr>\n",
       "      <th>2014</th>\n",
       "      <td>DR Smith</td>\n",
       "      <td>566</td>\n",
       "    </tr>\n",
       "    <tr>\n",
       "      <th>2014</th>\n",
       "      <td>GJ Maxwell</td>\n",
       "      <td>552</td>\n",
       "    </tr>\n",
       "    <tr>\n",
       "      <th>2013</th>\n",
       "      <td>MEK Hussey</td>\n",
       "      <td>733</td>\n",
       "    </tr>\n",
       "    <tr>\n",
       "      <th>2013</th>\n",
       "      <td>CH Gayle</td>\n",
       "      <td>720</td>\n",
       "    </tr>\n",
       "    <tr>\n",
       "      <th>2013</th>\n",
       "      <td>V Kohli</td>\n",
       "      <td>639</td>\n",
       "    </tr>\n",
       "    <tr>\n",
       "      <th>2012</th>\n",
       "      <td>CH Gayle</td>\n",
       "      <td>733</td>\n",
       "    </tr>\n",
       "    <tr>\n",
       "      <th>2012</th>\n",
       "      <td>G Gambhir</td>\n",
       "      <td>590</td>\n",
       "    </tr>\n",
       "    <tr>\n",
       "      <th>2012</th>\n",
       "      <td>S Dhawan</td>\n",
       "      <td>569</td>\n",
       "    </tr>\n",
       "    <tr>\n",
       "      <th>2011</th>\n",
       "      <td>CH Gayle</td>\n",
       "      <td>608</td>\n",
       "    </tr>\n",
       "    <tr>\n",
       "      <th>2011</th>\n",
       "      <td>V Kohli</td>\n",
       "      <td>557</td>\n",
       "    </tr>\n",
       "    <tr>\n",
       "      <th>2011</th>\n",
       "      <td>SR Tendulkar</td>\n",
       "      <td>553</td>\n",
       "    </tr>\n",
       "    <tr>\n",
       "      <th>2010</th>\n",
       "      <td>SR Tendulkar</td>\n",
       "      <td>618</td>\n",
       "    </tr>\n",
       "    <tr>\n",
       "      <th>2010</th>\n",
       "      <td>JH Kallis</td>\n",
       "      <td>572</td>\n",
       "    </tr>\n",
       "    <tr>\n",
       "      <th>2010</th>\n",
       "      <td>SK Raina</td>\n",
       "      <td>528</td>\n",
       "    </tr>\n",
       "    <tr>\n",
       "      <th>2009</th>\n",
       "      <td>ML Hayden</td>\n",
       "      <td>572</td>\n",
       "    </tr>\n",
       "    <tr>\n",
       "      <th>2009</th>\n",
       "      <td>AC Gilchrist</td>\n",
       "      <td>495</td>\n",
       "    </tr>\n",
       "    <tr>\n",
       "      <th>2009</th>\n",
       "      <td>AB de Villiers</td>\n",
       "      <td>465</td>\n",
       "    </tr>\n",
       "    <tr>\n",
       "      <th>2008</th>\n",
       "      <td>SE Marsh</td>\n",
       "      <td>616</td>\n",
       "    </tr>\n",
       "    <tr>\n",
       "      <th>2008</th>\n",
       "      <td>G Gambhir</td>\n",
       "      <td>534</td>\n",
       "    </tr>\n",
       "    <tr>\n",
       "      <th>2008</th>\n",
       "      <td>ST Jayasuriya</td>\n",
       "      <td>514</td>\n",
       "    </tr>\n",
       "  </tbody>\n",
       "</table>\n",
       "</div>"
      ],
      "text/plain": [
       "                batter  batsman_run\n",
       "Season                             \n",
       "2022        JC Buttler          863\n",
       "2022          KL Rahul          616\n",
       "2022         Q de Kock          508\n",
       "2021        RD Gaikwad          635\n",
       "2021      F du Plessis          633\n",
       "2021          KL Rahul          626\n",
       "2020          KL Rahul          676\n",
       "2020          S Dhawan          618\n",
       "2020         DA Warner          548\n",
       "2019         DA Warner          692\n",
       "2019          KL Rahul          593\n",
       "2019         Q de Kock          529\n",
       "2018     KS Williamson          735\n",
       "2018           RR Pant          684\n",
       "2018          KL Rahul          659\n",
       "2017         DA Warner          641\n",
       "2017         G Gambhir          498\n",
       "2017          S Dhawan          479\n",
       "2016           V Kohli          973\n",
       "2016         DA Warner          848\n",
       "2016    AB de Villiers          687\n",
       "2015         DA Warner          562\n",
       "2015         AM Rahane          540\n",
       "2015       LMP Simmons          540\n",
       "2014        RV Uthappa          660\n",
       "2014          DR Smith          566\n",
       "2014        GJ Maxwell          552\n",
       "2013        MEK Hussey          733\n",
       "2013          CH Gayle          720\n",
       "2013           V Kohli          639\n",
       "2012          CH Gayle          733\n",
       "2012         G Gambhir          590\n",
       "2012          S Dhawan          569\n",
       "2011          CH Gayle          608\n",
       "2011           V Kohli          557\n",
       "2011      SR Tendulkar          553\n",
       "2010      SR Tendulkar          618\n",
       "2010         JH Kallis          572\n",
       "2010          SK Raina          528\n",
       "2009         ML Hayden          572\n",
       "2009      AC Gilchrist          495\n",
       "2009    AB de Villiers          465\n",
       "2008          SE Marsh          616\n",
       "2008         G Gambhir          534\n",
       "2008     ST Jayasuriya          514"
      ]
     },
     "execution_count": 49,
     "metadata": {},
     "output_type": "execute_result"
    }
   ],
   "source": [
    "Season_Wise_Score = df.groupby(['Season','batter'])['batsman_run'].sum().reset_index().sort_values(by=['Season', 'batsman_run'], ascending=False).set_index('Season')\n",
    "Season_Wise_Score = Season_Wise_Score.groupby('Season').head(3)\n",
    "Season_Wise_Score"
   ]
  },
  {
   "cell_type": "markdown",
   "id": "4676b429",
   "metadata": {},
   "source": [
    "## --  stadium with most matches played"
   ]
  },
  {
   "cell_type": "code",
   "execution_count": 50,
   "id": "3082965a",
   "metadata": {
    "scrolled": true
   },
   "outputs": [
    {
     "data": {
      "text/plain": [
       "Wankhede Stadium                                       104\n",
       "Eden Gardens                                            79\n",
       "MA Chidambaram Stadium                                  67\n",
       "M Chinnaswamy Stadium                                   65\n",
       "Rajiv Gandhi International Stadium                      64\n",
       "Feroz Shah Kotla                                        60\n",
       "Sawai Mansingh Stadium                                  47\n",
       "Dubai International Cricket Stadium                     46\n",
       "Dr DY Patil Sports Academy                              37\n",
       "Maharashtra Cricket Association Stadium                 35\n",
       "Punjab Cricket Association Stadium                      35\n",
       "Sheikh Zayed Stadium                                    29\n",
       "Sharjah Cricket Stadium                                 28\n",
       "Brabourne Stadium                                       27\n",
       "Punjab Cricket Association IS Bindra Stadium            21\n",
       "Arun Jaitley Stadium                                    18\n",
       "Subrata Roy Sahara Stadium                              16\n",
       "M.Chinnaswamy Stadium                                   15\n",
       "Kingsmead                                               15\n",
       "Dr. Y.S. Rajasekhara Reddy ACA-VDCA Cricket Stadium     13\n",
       "SuperSport Park                                         12\n",
       "Sardar Patel Stadium                                    12\n",
       "Saurashtra Cricket Association Stadium                  10\n",
       "Himachal Pradesh Cricket Association Stadium             9\n",
       "Holkar Cricket Stadium                                   9\n",
       "Zayed Cricket Stadium                                    8\n",
       "New Wanderers Stadium                                    8\n",
       "St George's Park                                         7\n",
       "Narendra Modi Stadium                                    7\n",
       "Barabati Stadium                                         7\n",
       "JSCA International Stadium Complex                       7\n",
       "Newlands                                                 7\n",
       "Shaheed Veer Narayan Singh International Stadium         6\n",
       "Nehru Stadium                                            5\n",
       "Green Park                                               4\n",
       "Vidarbha Cricket Association Stadium                     3\n",
       "De Beers Diamond Oval                                    3\n",
       "Buffalo Park                                             3\n",
       "OUTsurance Oval                                          2\n",
       "Name: Venue, dtype: int64"
      ]
     },
     "execution_count": 50,
     "metadata": {},
     "output_type": "execute_result"
    }
   ],
   "source": [
    "venue_counts = matches['Venue'].value_counts()\n",
    "venue_counts"
   ]
  },
  {
   "cell_type": "code",
   "execution_count": 51,
   "id": "122d25e1",
   "metadata": {},
   "outputs": [
    {
     "data": {
      "image/png": "[encoded data removed]",
      "text/plain": [
       "<Figure size 1000x400 with 1 Axes>"
      ]
     },
     "metadata": {},
     "output_type": "display_data"
    }
   ],
   "source": [
    "x = venue_counts.index.tolist()\n",
    "y = venue_counts.tolist()\n",
    "\n",
    "plt.figure(figsize=(10, 4))\n",
    "plt.bar(x, y)\n",
    "plt.xticks(rotation=90)\n",
    "plt.xlabel('Venue')\n",
    "plt.ylabel('Number of Matches')\n",
    "plt.title('Matches Played at Each Venue')\n",
    "\n",
    "plt.show()"
   ]
  },
  {
   "cell_type": "code",
   "execution_count": 52,
   "id": "51a7cb88",
   "metadata": {},
   "outputs": [
    {
     "data": {
      "text/html": [
       "<div>\n",
       "<style scoped>\n",
       "    .dataframe tbody tr th:only-of-type {\n",
       "        vertical-align: middle;\n",
       "    }\n",
       "\n",
       "    .dataframe tbody tr th {\n",
       "        vertical-align: top;\n",
       "    }\n",
       "\n",
       "    .dataframe thead th {\n",
       "        text-align: right;\n",
       "    }\n",
       "</style>\n",
       "<table border=\"1\" class=\"dataframe\">\n",
       "  <thead>\n",
       "    <tr style=\"text-align: right;\">\n",
       "      <th></th>\n",
       "      <th>ID</th>\n",
       "      <th>City</th>\n",
       "      <th>Date</th>\n",
       "      <th>Season</th>\n",
       "      <th>MatchNumber</th>\n",
       "      <th>Team1</th>\n",
       "      <th>Team2</th>\n",
       "      <th>Venue</th>\n",
       "      <th>TossWinner</th>\n",
       "      <th>TossDecision</th>\n",
       "      <th>...</th>\n",
       "      <th>extra_type</th>\n",
       "      <th>batsman_run</th>\n",
       "      <th>extras_run</th>\n",
       "      <th>total_run</th>\n",
       "      <th>non_boundary</th>\n",
       "      <th>isWicketDelivery</th>\n",
       "      <th>player_out</th>\n",
       "      <th>kind</th>\n",
       "      <th>fielders_involved</th>\n",
       "      <th>BattingTeam</th>\n",
       "    </tr>\n",
       "  </thead>\n",
       "  <tbody>\n",
       "    <tr>\n",
       "      <th>0</th>\n",
       "      <td>1312200</td>\n",
       "      <td>Ahmedabad</td>\n",
       "      <td>2022-05-29</td>\n",
       "      <td>2022</td>\n",
       "      <td>Final</td>\n",
       "      <td>Rajasthan Royals</td>\n",
       "      <td>Gujarat Titans</td>\n",
       "      <td>Narendra Modi Stadium</td>\n",
       "      <td>Rajasthan Royals</td>\n",
       "      <td>bat</td>\n",
       "      <td>...</td>\n",
       "      <td>NaN</td>\n",
       "      <td>0</td>\n",
       "      <td>0</td>\n",
       "      <td>0</td>\n",
       "      <td>0</td>\n",
       "      <td>0</td>\n",
       "      <td>NaN</td>\n",
       "      <td>NaN</td>\n",
       "      <td>NaN</td>\n",
       "      <td>Rajasthan Royals</td>\n",
       "    </tr>\n",
       "  </tbody>\n",
       "</table>\n",
       "<p>1 rows × 36 columns</p>\n",
       "</div>"
      ],
      "text/plain": [
       "        ID       City        Date  Season MatchNumber             Team1  \\\n",
       "0  1312200  Ahmedabad  2022-05-29    2022       Final  Rajasthan Royals   \n",
       "\n",
       "            Team2                  Venue        TossWinner TossDecision  ...  \\\n",
       "0  Gujarat Titans  Narendra Modi Stadium  Rajasthan Royals          bat  ...   \n",
       "\n",
       "  extra_type batsman_run extras_run  total_run non_boundary isWicketDelivery  \\\n",
       "0        NaN           0          0          0            0                0   \n",
       "\n",
       "  player_out kind fielders_involved       BattingTeam  \n",
       "0        NaN  NaN               NaN  Rajasthan Royals  \n",
       "\n",
       "[1 rows x 36 columns]"
      ]
     },
     "execution_count": 52,
     "metadata": {},
     "output_type": "execute_result"
    }
   ],
   "source": [
    "df.head(1)"
   ]
  },
  {
   "cell_type": "code",
   "execution_count": 53,
   "id": "6d9fe17d",
   "metadata": {},
   "outputs": [],
   "source": [
    "def total_runs(batter):\n",
    "    total_runs = df[df['batter']==batter]\n",
    "    return total_runs.groupby('Season').sum()['batsman_run']\n",
    "    "
   ]
  },
  {
   "cell_type": "code",
   "execution_count": 54,
   "id": "ee167285",
   "metadata": {
    "scrolled": false
   },
   "outputs": [
    {
     "data": {
      "text/plain": [
       "Season\n",
       "2008    165\n",
       "2009    246\n",
       "2010    307\n",
       "2011    557\n",
       "2012    364\n",
       "2013    639\n",
       "2014    359\n",
       "2015    505\n",
       "2016    973\n",
       "2017    308\n",
       "2018    530\n",
       "2019    464\n",
       "2020    471\n",
       "2021    405\n",
       "2022    341\n",
       "Name: batsman_run, dtype: int64"
      ]
     },
     "execution_count": 54,
     "metadata": {},
     "output_type": "execute_result"
    }
   ],
   "source": [
    "total_runs('V Kohli') # score of virat kohli in each season"
   ]
  },
  {
   "cell_type": "markdown",
   "id": "306f8bec",
   "metadata": {},
   "source": [
    "## -- Total runs of top 25 scorer in IPL "
   ]
  },
  {
   "cell_type": "code",
   "execution_count": 55,
   "id": "9a846579",
   "metadata": {
    "scrolled": false
   },
   "outputs": [
    {
     "data": {
      "text/plain": [
       "batter\n",
       "V Kohli           6634\n",
       "S Dhawan          6244\n",
       "DA Warner         5883\n",
       "RG Sharma         5881\n",
       "SK Raina          5536\n",
       "AB de Villiers    5181\n",
       "CH Gayle          4997\n",
       "MS Dhoni          4978\n",
       "RV Uthappa        4954\n",
       "KD Karthik        4377\n",
       "G Gambhir         4217\n",
       "AT Rayudu         4190\n",
       "AM Rahane         4074\n",
       "KL Rahul          3895\n",
       "SR Watson         3880\n",
       "MK Pandey         3657\n",
       "SV Samson         3526\n",
       "KA Pollard        3437\n",
       "F du Plessis      3403\n",
       "YK Pathan         3222\n",
       "Name: batsman_run, dtype: int64"
      ]
     },
     "execution_count": 55,
     "metadata": {},
     "output_type": "execute_result"
    }
   ],
   "source": [
    "df.groupby('batter')['batsman_run'].sum('batsman_run').sort_values(ascending=False)[:20]"
   ]
  },
  {
   "cell_type": "markdown",
   "id": "72e235d5",
   "metadata": {},
   "source": [
    "## -- Bowler with most number of dot balls"
   ]
  },
  {
   "cell_type": "code",
   "execution_count": 56,
   "id": "e1718c39",
   "metadata": {
    "scrolled": true
   },
   "outputs": [
    {
     "data": {
      "text/plain": [
       "bowler\n",
       "B Kumar            1385\n",
       "R Ashwin           1377\n",
       "SP Narine          1363\n",
       "Harbhajan Singh    1263\n",
       "A Mishra           1150\n",
       "SL Malinga         1144\n",
       "PP Chawla          1140\n",
       "UT Yadav           1090\n",
       "JJ Bumrah          1084\n",
       "P Kumar            1075\n",
       "Name: total_run, dtype: int64"
      ]
     },
     "execution_count": 56,
     "metadata": {},
     "output_type": "execute_result"
    }
   ],
   "source": [
    "delivery_dot = delivery[delivery['total_run']==0]\n",
    "delivery_dot.groupby('bowler')['total_run'].count().sort_values(ascending=False)[:10]"
   ]
  },
  {
   "cell_type": "markdown",
   "id": "9a05ca7a",
   "metadata": {},
   "source": [
    "## -- most number of times batsman out as 'caught'"
   ]
  },
  {
   "cell_type": "code",
   "execution_count": 57,
   "id": "e6decaae",
   "metadata": {
    "scrolled": false
   },
   "outputs": [
    {
     "data": {
      "text/plain": [
       "caught                   6837\n",
       "bowled                   1944\n",
       "run out                  1007\n",
       "lbw                       685\n",
       "stumped                   325\n",
       "caught and bowled         323\n",
       "hit wicket                 14\n",
       "retired hurt               13\n",
       "obstructing the field       2\n",
       "retired out                 1\n",
       "Name: kind, dtype: int64"
      ]
     },
     "execution_count": 57,
     "metadata": {},
     "output_type": "execute_result"
    }
   ],
   "source": [
    "delivery['kind'].value_counts()"
   ]
  },
  {
   "cell_type": "code",
   "execution_count": 58,
   "id": "ff45001b",
   "metadata": {
    "scrolled": false
   },
   "outputs": [
    {
     "data": {
      "text/plain": [
       "batter\n",
       "RG Sharma         135\n",
       "RV Uthappa        124\n",
       "V Kohli           120\n",
       "SK Raina          116\n",
       "S Dhawan          104\n",
       "KD Karthik        100\n",
       "DA Warner          91\n",
       "MS Dhoni           87\n",
       "AT Rayudu          86\n",
       "KA Pollard         86\n",
       "Yuvraj Singh       84\n",
       "CH Gayle           82\n",
       "SV Samson          82\n",
       "AM Rahane          80\n",
       "G Gambhir          80\n",
       "AB de Villiers     78\n",
       "YK Pathan          76\n",
       "MK Pandey          74\n",
       "PA Patel           71\n",
       "SR Watson          70\n",
       "Name: player_out, dtype: int64"
      ]
     },
     "execution_count": 58,
     "metadata": {},
     "output_type": "execute_result"
    }
   ],
   "source": [
    "caught_out = delivery[delivery['kind']=='caught']\n",
    "caught_out.groupby('batter').count()['player_out'].sort_values(ascending=False)[:20]"
   ]
  },
  {
   "cell_type": "markdown",
   "id": "58eddb48",
   "metadata": {},
   "source": [
    "## -- most number of times batsman out as 'bowled'"
   ]
  },
  {
   "cell_type": "code",
   "execution_count": 59,
   "id": "07ee9d0f",
   "metadata": {
    "scrolled": false
   },
   "outputs": [
    {
     "data": {
      "text/plain": [
       "batter\n",
       "S Dhawan          37\n",
       "SR Watson         36\n",
       "V Kohli           36\n",
       "MK Pandey         29\n",
       "G Gambhir         27\n",
       "AT Rayudu         26\n",
       "DA Warner         26\n",
       "KD Karthik        26\n",
       "CH Gayle          25\n",
       "RG Sharma         24\n",
       "AJ Finch          24\n",
       "AB de Villiers    24\n",
       "PA Patel          22\n",
       "MA Agarwal        21\n",
       "WP Saha           21\n",
       "KA Pollard        20\n",
       "M Vijay           19\n",
       "AM Rahane         19\n",
       "MS Dhoni          19\n",
       "DR Smith          18\n",
       "Name: player_out, dtype: int64"
      ]
     },
     "execution_count": 59,
     "metadata": {},
     "output_type": "execute_result"
    }
   ],
   "source": [
    "bowled = delivery[delivery['kind']=='bowled']\n",
    "bowled.groupby('batter').count()['player_out'].sort_values(ascending=False)[:20]"
   ]
  },
  {
   "cell_type": "markdown",
   "id": "f2bc6f32",
   "metadata": {},
   "source": [
    "## -- most number of times batsman out as 'run out'"
   ]
  },
  {
   "cell_type": "code",
   "execution_count": 60,
   "id": "80a13cb7",
   "metadata": {},
   "outputs": [
    {
     "data": {
      "text/plain": [
       "batter\n",
       "MS Dhoni      24\n",
       "RG Sharma     20\n",
       "V Kohli       19\n",
       "KD Karthik    18\n",
       "S Dhawan      16\n",
       "G Gambhir     15\n",
       "KA Pollard    14\n",
       "RV Uthappa    13\n",
       "SK Raina      12\n",
       "AT Rayudu     12\n",
       "YK Pathan     12\n",
       "RA Jadeja     11\n",
       "PA Patel      11\n",
       "RR Pant       10\n",
       "DA Warner     10\n",
       "SPD Smith     10\n",
       "SR Watson      9\n",
       "AM Nayar       9\n",
       "IK Pathan      9\n",
       "JH Kallis      9\n",
       "Name: player_out, dtype: int64"
      ]
     },
     "execution_count": 60,
     "metadata": {},
     "output_type": "execute_result"
    }
   ],
   "source": [
    "run_out = delivery[delivery['kind']=='run out']\n",
    "run_out.groupby('batter').count()['player_out'].sort_values(ascending=False)[:20]"
   ]
  },
  {
   "cell_type": "markdown",
   "id": "9c86cd23",
   "metadata": {},
   "source": [
    "## -- most number of times batsman out as 'lbw'"
   ]
  },
  {
   "cell_type": "code",
   "execution_count": 61,
   "id": "3c93cefb",
   "metadata": {},
   "outputs": [
    {
     "data": {
      "text/plain": [
       "batter\n",
       "RV Uthappa      18\n",
       "KD Karthik      17\n",
       "BB McCullum     16\n",
       "AM Rahane       15\n",
       "RG Sharma       13\n",
       "S Dhawan        12\n",
       "PA Patel        12\n",
       "DR Smith        12\n",
       "V Kohli         11\n",
       "M Vijay         10\n",
       "CH Gayle        10\n",
       "SR Tendulkar     8\n",
       "KA Pollard       8\n",
       "SK Raina         7\n",
       "DA Miller        7\n",
       "G Gambhir        7\n",
       "SV Samson        7\n",
       "KL Rahul         7\n",
       "MK Tiwary        7\n",
       "AJ Finch         7\n",
       "Name: player_out, dtype: int64"
      ]
     },
     "execution_count": 61,
     "metadata": {},
     "output_type": "execute_result"
    }
   ],
   "source": [
    "lbw = delivery[delivery['kind']=='lbw']\n",
    "lbw.groupby('batter').count()['player_out'].sort_values(ascending=False)[:20]"
   ]
  },
  {
   "cell_type": "code",
   "execution_count": 62,
   "id": "226d47a5",
   "metadata": {
    "scrolled": true
   },
   "outputs": [
    {
     "data": {
      "text/plain": [
       "Index(['ID', 'City', 'Date', 'Season', 'MatchNumber', 'Team1', 'Team2',\n",
       "       'Venue', 'TossWinner', 'TossDecision', 'SuperOver', 'WinningTeam',\n",
       "       'WonBy', 'Margin', 'method', 'Player_of_Match', 'Team1Players',\n",
       "       'Team2Players', 'Umpire1', 'Umpire2'],\n",
       "      dtype='object')"
      ]
     },
     "execution_count": 62,
     "metadata": {},
     "output_type": "execute_result"
    }
   ],
   "source": [
    "matches.columns"
   ]
  },
  {
   "cell_type": "code",
   "execution_count": 63,
   "id": "0029b1c8",
   "metadata": {
    "scrolled": false
   },
   "outputs": [
    {
     "data": {
      "text/plain": [
       "Index(['ID', 'innings', 'overs', 'ballnumber', 'batter', 'bowler',\n",
       "       'non-striker', 'extra_type', 'batsman_run', 'extras_run', 'total_run',\n",
       "       'non_boundary', 'isWicketDelivery', 'player_out', 'kind',\n",
       "       'fielders_involved', 'BattingTeam'],\n",
       "      dtype='object')"
      ]
     },
     "execution_count": 63,
     "metadata": {},
     "output_type": "execute_result"
    }
   ],
   "source": [
    "delivery.columns"
   ]
  },
  {
   "cell_type": "markdown",
   "id": "d97dd7f0",
   "metadata": {},
   "source": [
    "## -- how many 6's have hit by team in each over"
   ]
  },
  {
   "cell_type": "code",
   "execution_count": 64,
   "id": "b684bb36",
   "metadata": {},
   "outputs": [
    {
     "name": "stdout",
     "output_type": "stream",
     "text": [
      "overs                          1     2     3     4     5     6     7     8   \\\n",
      "BattingTeam                                                                   \n",
      "Chennai Super Kings           9.0  29.0  58.0  62.0  63.0  75.0  39.0  33.0   \n",
      "Delhi Capitals               17.0  33.0  55.0  63.0  54.0  46.0  31.0  46.0   \n",
      "Gujarat Lions                 4.0   6.0  14.0   9.0  11.0  12.0  10.0   6.0   \n",
      "Gujarat Titans                1.0   2.0   1.0   2.0   4.0   2.0   5.0   3.0   \n",
      "Kochi Tuskers Kerala          2.0   4.0   3.0   3.0   3.0   3.0   2.0   2.0   \n",
      "Kolkata Knight Riders        22.0  40.0  44.0  50.0  50.0  60.0  43.0  55.0   \n",
      "Lucknow Super Giants          1.0   1.0   3.0   5.0   8.0   6.0   3.0   4.0   \n",
      "Mumbai Indians               23.0  31.0  45.0  55.0  71.0  71.0  29.0  44.0   \n",
      "Pune Warriors                 5.0   6.0   6.0   7.0   7.0   3.0   5.0  10.0   \n",
      "Punjab Kings                 22.0  41.0  52.0  62.0  56.0  65.0  45.0  52.0   \n",
      "Rajasthan Royals             23.0  22.0  35.0  53.0  47.0  45.0  33.0  44.0   \n",
      "Rising Pune Supergiant        1.0   2.0   3.0   6.0  13.0  11.0   5.0   3.0   \n",
      "Royal Challengers Bangalore  28.0  39.0  55.0  58.0  55.0  49.0  27.0  50.0   \n",
      "Sunrisers Hyderabad          12.0  49.0  51.0  38.0  66.0  55.0  31.0  49.0   \n",
      "\n",
      "overs                          9     10    11    12    13    14    15     16  \\\n",
      "BattingTeam                                                                    \n",
      "Chennai Super Kings          51.0  42.0  67.0  59.0  63.0  66.0  71.0   81.0   \n",
      "Delhi Capitals               50.0  45.0  53.0  54.0  64.0  47.0  60.0   74.0   \n",
      "Gujarat Lions                11.0   8.0   5.0   7.0   5.0   8.0   5.0    5.0   \n",
      "Gujarat Titans                3.0   1.0   1.0   4.0   1.0   3.0   7.0    9.0   \n",
      "Kochi Tuskers Kerala          1.0   3.0   1.0   3.0   2.0   3.0   4.0    NaN   \n",
      "Kolkata Knight Riders        47.0  48.0  56.0  68.0  75.0  67.0  76.0   87.0   \n",
      "Lucknow Super Giants          5.0   7.0   4.0   2.0   4.0   9.0   7.0    5.0   \n",
      "Mumbai Indians               64.0  46.0  52.0  70.0  73.0  85.0  83.0   83.0   \n",
      "Pune Warriors                 9.0   6.0  13.0   5.0  10.0  13.0  13.0   16.0   \n",
      "Punjab Kings                 67.0  53.0  64.0  63.0  72.0  73.0  74.0   93.0   \n",
      "Rajasthan Royals             42.0  46.0  49.0  54.0  55.0  58.0  52.0   68.0   \n",
      "Rising Pune Supergiant        4.0   9.0   5.0   4.0   8.0   5.0  12.0   11.0   \n",
      "Royal Challengers Bangalore  64.0  59.0  66.0  54.0  79.0  77.0  78.0  106.0   \n",
      "Sunrisers Hyderabad          48.0  42.0  43.0  55.0  64.0  75.0  82.0   66.0   \n",
      "\n",
      "overs                          17     18     19     20  \n",
      "BattingTeam                                             \n",
      "Chennai Super Kings          70.0  104.0   99.0  128.0  \n",
      "Delhi Capitals               90.0   80.0   88.0   99.0  \n",
      "Gujarat Lions                 7.0    9.0    9.0    4.0  \n",
      "Gujarat Titans                1.0    9.0    7.0   13.0  \n",
      "Kochi Tuskers Kerala          3.0    4.0    5.0    2.0  \n",
      "Kolkata Knight Riders        88.0   95.0   92.0   66.0  \n",
      "Lucknow Super Giants          4.0    7.0   19.0   11.0  \n",
      "Mumbai Indians               96.0  132.0  114.0  145.0  \n",
      "Pune Warriors                13.0   12.0   18.0   19.0  \n",
      "Punjab Kings                 60.0   85.0   83.0   96.0  \n",
      "Rajasthan Royals             67.0   76.0   78.0   66.0  \n",
      "Rising Pune Supergiant        8.0   11.0   16.0   20.0  \n",
      "Royal Challengers Bangalore  96.0  113.0  111.0  117.0  \n",
      "Sunrisers Hyderabad          80.0   98.0   96.0   80.0  \n"
     ]
    }
   ],
   "source": [
    "sixes = delivery[delivery['batsman_run']==6]\n",
    "sixes_in_overs=sixes.pivot_table(index=['BattingTeam'],columns=['overs'],values='batsman_run',aggfunc='count')\n",
    "print(sixes_in_overs)"
   ]
  },
  {
   "cell_type": "code",
   "execution_count": 65,
   "id": "69d72f9e",
   "metadata": {},
   "outputs": [
    {
     "data": {
      "text/plain": [
       "<AxesSubplot:xlabel='overs', ylabel='BattingTeam'>"
      ]
     },
     "execution_count": 65,
     "metadata": {},
     "output_type": "execute_result"
    },
    {
     "data": {
      "image/png": "[encoded data removed]",
      "text/plain": [
       "<Figure size 640x480 with 2 Axes>"
      ]
     },
     "metadata": {},
     "output_type": "display_data"
    }
   ],
   "source": [
    "sns.heatmap(sixes_in_overs,cmap=\"crest\")"
   ]
  },
  {
   "cell_type": "markdown",
   "id": "1315f62c",
   "metadata": {},
   "source": [
    "## -- most destructive player ( having good strike rate  ) in death overs\n",
    "strike rate = (number of runs / number of balls) *100"
   ]
  },
  {
   "cell_type": "markdown",
   "id": "33b6c940",
   "metadata": {},
   "source": [
    "base criteria is player has played 200 balls, (between 16 and 20 overs he has completed 200 balls)"
   ]
  },
  {
   "cell_type": "code",
   "execution_count": 66,
   "id": "0cb15a44",
   "metadata": {},
   "outputs": [],
   "source": [
    "df1 = delivery[delivery['overs']>15]"
   ]
  },
  {
   "cell_type": "code",
   "execution_count": 67,
   "id": "bbcf3592",
   "metadata": {},
   "outputs": [],
   "source": [
    "a = df1.groupby('batter')['batsman_run'].count()  # counting numbers of balls"
   ]
  },
  {
   "cell_type": "code",
   "execution_count": 68,
   "id": "7a6e35b4",
   "metadata": {},
   "outputs": [],
   "source": [
    "b = df1.groupby('batter')['batsman_run'].count()>200\n",
    "c=a[b].index.tolist()"
   ]
  },
  {
   "cell_type": "code",
   "execution_count": 69,
   "id": "06bce48d",
   "metadata": {},
   "outputs": [
    {
     "data": {
      "text/plain": [
       "['A Mishra',\n",
       " 'AB de Villiers',\n",
       " 'AD Mathews',\n",
       " 'AD Russell',\n",
       " 'AM Rahane',\n",
       " 'AR Patel',\n",
       " 'AT Rayudu',\n",
       " 'B Kumar',\n",
       " 'BJ Hodge',\n",
       " 'CH Gayle',\n",
       " 'CH Morris',\n",
       " 'DA Miller',\n",
       " 'DA Warner',\n",
       " 'DJ Bravo',\n",
       " 'DJ Hooda',\n",
       " 'DJ Hussey',\n",
       " 'DPMD Jayawardene',\n",
       " 'DT Christian',\n",
       " 'EJG Morgan',\n",
       " 'F du Plessis',\n",
       " 'GJ Maxwell',\n",
       " 'HH Pandya',\n",
       " 'Harbhajan Singh',\n",
       " 'IK Pathan',\n",
       " 'JA Morkel',\n",
       " 'JC Buttler',\n",
       " 'JH Kallis',\n",
       " 'JP Duminy',\n",
       " 'JP Faulkner',\n",
       " 'KA Pollard',\n",
       " 'KD Karthik',\n",
       " 'KH Pandya',\n",
       " 'KL Rahul',\n",
       " 'KM Jadhav',\n",
       " 'KS Williamson',\n",
       " 'LRPL Taylor',\n",
       " 'MC Henriques',\n",
       " 'MK Pandey',\n",
       " 'MK Tiwary',\n",
       " 'MP Stoinis',\n",
       " 'MS Dhoni',\n",
       " 'Mandeep Singh',\n",
       " 'N Pooran',\n",
       " 'N Rana',\n",
       " 'NV Ojha',\n",
       " 'P Kumar',\n",
       " 'PP Chawla',\n",
       " 'R Ashwin',\n",
       " 'R Parag',\n",
       " 'R Tewatia',\n",
       " 'R Vinay Kumar',\n",
       " 'RA Jadeja',\n",
       " 'RG Sharma',\n",
       " 'RR Pant',\n",
       " 'RV Uthappa',\n",
       " 'S Badrinath',\n",
       " 'S Dhawan',\n",
       " 'SA Yadav',\n",
       " 'SK Raina',\n",
       " 'SO Hetmyer',\n",
       " 'SPD Smith',\n",
       " 'SR Watson',\n",
       " 'SS Iyer',\n",
       " 'SS Tiwary',\n",
       " 'STR Binny',\n",
       " 'SV Samson',\n",
       " 'Shakib Al Hasan',\n",
       " 'V Kohli',\n",
       " 'V Shankar',\n",
       " 'WP Saha',\n",
       " 'Y Venugopal Rao',\n",
       " 'YK Pathan',\n",
       " 'Yuvraj Singh']"
      ]
     },
     "execution_count": 69,
     "metadata": {},
     "output_type": "execute_result"
    }
   ],
   "source": [
    "c"
   ]
  },
  {
   "cell_type": "code",
   "execution_count": 70,
   "id": "cab031a1",
   "metadata": {},
   "outputs": [],
   "source": [
    "df2=df1[df1['batter'].isin(c)] "
   ]
  },
  {
   "cell_type": "code",
   "execution_count": 71,
   "id": "73be0c47",
   "metadata": {},
   "outputs": [],
   "source": [
    "runs=df2.groupby('batter')['batsman_run'].sum()\n",
    "balls=df2.groupby('batter')['batsman_run'].count()"
   ]
  },
  {
   "cell_type": "code",
   "execution_count": 72,
   "id": "7b439ed8",
   "metadata": {},
   "outputs": [
    {
     "data": {
      "text/plain": [
       "batter\n",
       "AB de Villiers    215.456\n",
       "CH Gayle          191.118\n",
       "RR Pant           189.448\n",
       "JC Buttler        187.747\n",
       "AD Russell        184.441\n",
       "SV Samson         180.571\n",
       "SR Watson         180.478\n",
       "DA Warner         179.518\n",
       "V Kohli           179.034\n",
       "KL Rahul          176.263\n",
       "DJ Hussey         175.214\n",
       "RG Sharma         175.059\n",
       "F du Plessis      173.702\n",
       "DA Miller         172.397\n",
       "JH Kallis         170.563\n",
       "N Rana            169.524\n",
       "Yuvraj Singh      169.346\n",
       "GJ Maxwell        168.301\n",
       "DJ Bravo          167.712\n",
       "MS Dhoni          166.869\n",
       "Name: batsman_run, dtype: float64"
      ]
     },
     "execution_count": 72,
     "metadata": {},
     "output_type": "execute_result"
    }
   ],
   "source": [
    "strike_rate = round((runs/balls)*100,3).sort_values(ascending=False)\n",
    "strike_rate.head(20)"
   ]
  },
  {
   "cell_type": "markdown",
   "id": "ed362069",
   "metadata": {},
   "source": [
    "## -- most destructive player ( having good strike rate  ) in powerplay"
   ]
  },
  {
   "cell_type": "code",
   "execution_count": 73,
   "id": "50cde228",
   "metadata": {},
   "outputs": [],
   "source": [
    "df3 = delivery[delivery['overs']<=6]"
   ]
  },
  {
   "cell_type": "code",
   "execution_count": 74,
   "id": "7c3f07e9",
   "metadata": {},
   "outputs": [],
   "source": [
    "a = df3.groupby('batter')['batsman_run'].count()  # counting numbers of balls"
   ]
  },
  {
   "cell_type": "code",
   "execution_count": 75,
   "id": "0b5799cd",
   "metadata": {},
   "outputs": [],
   "source": [
    "b = df3.groupby('batter')['batsman_run'].count()>200\n",
    "c=a[b].index.tolist()"
   ]
  },
  {
   "cell_type": "code",
   "execution_count": 76,
   "id": "1ec0eeee",
   "metadata": {},
   "outputs": [
    {
     "data": {
      "text/plain": [
       "['AB de Villiers',\n",
       " 'AC Gilchrist',\n",
       " 'AJ Finch',\n",
       " 'AM Rahane',\n",
       " 'AP Tare',\n",
       " 'AT Rayudu',\n",
       " 'Abhishek Sharma',\n",
       " 'BB McCullum',\n",
       " 'CA Lynn',\n",
       " 'CA Pujara',\n",
       " 'CH Gayle',\n",
       " 'D Padikkal',\n",
       " 'DA Warner',\n",
       " 'DPMD Jayawardene',\n",
       " 'DR Smith',\n",
       " 'E Lewis',\n",
       " 'F du Plessis',\n",
       " 'G Gambhir',\n",
       " 'GC Smith',\n",
       " 'GJ Maxwell',\n",
       " 'HH Gibbs',\n",
       " 'HM Amla',\n",
       " 'Ishan Kishan',\n",
       " 'JC Buttler',\n",
       " 'JD Ryder',\n",
       " 'JH Kallis',\n",
       " 'JM Bairstow',\n",
       " 'JP Duminy',\n",
       " 'KC Sangakkara',\n",
       " 'KD Karthik',\n",
       " 'KK Nair',\n",
       " 'KL Rahul',\n",
       " 'KP Pietersen',\n",
       " 'KS Williamson',\n",
       " 'LMP Simmons',\n",
       " 'M Vijay',\n",
       " 'M Vohra',\n",
       " 'MA Agarwal',\n",
       " 'MEK Hussey',\n",
       " 'MK Pandey',\n",
       " 'MK Tiwary',\n",
       " 'ML Hayden',\n",
       " 'MS Bisla',\n",
       " 'Mandeep Singh',\n",
       " 'N Rana',\n",
       " 'NV Ojha',\n",
       " 'PA Patel',\n",
       " 'PC Valthaty',\n",
       " 'PP Shaw',\n",
       " 'Q de Kock',\n",
       " 'R Dravid',\n",
       " 'RA Tripathi',\n",
       " 'RD Gaikwad',\n",
       " 'RG Sharma',\n",
       " 'RR Pant',\n",
       " 'RV Uthappa',\n",
       " 'S Badrinath',\n",
       " 'S Dhawan',\n",
       " 'S Sohal',\n",
       " 'SA Asnodkar',\n",
       " 'SA Yadav',\n",
       " 'SC Ganguly',\n",
       " 'SE Marsh',\n",
       " 'SK Raina',\n",
       " 'SP Narine',\n",
       " 'SPD Smith',\n",
       " 'SR Tendulkar',\n",
       " 'SR Watson',\n",
       " 'SS Iyer',\n",
       " 'ST Jayasuriya',\n",
       " 'SV Samson',\n",
       " 'Shubman Gill',\n",
       " 'TM Dilshan',\n",
       " 'V Kohli',\n",
       " 'V Sehwag',\n",
       " 'VR Iyer',\n",
       " 'WP Saha',\n",
       " 'YBK Jaiswal',\n",
       " 'YK Pathan']"
      ]
     },
     "execution_count": 76,
     "metadata": {},
     "output_type": "execute_result"
    }
   ],
   "source": [
    "c"
   ]
  },
  {
   "cell_type": "code",
   "execution_count": 77,
   "id": "124ecea3",
   "metadata": {},
   "outputs": [],
   "source": [
    "df4=df3[df3['batter'].isin(c)] "
   ]
  },
  {
   "cell_type": "code",
   "execution_count": 78,
   "id": "ccdc1296",
   "metadata": {},
   "outputs": [],
   "source": [
    "runs=df4.groupby('batter')['batsman_run'].sum()\n",
    "balls=df4.groupby('batter')['batsman_run'].count()"
   ]
  },
  {
   "cell_type": "code",
   "execution_count": 79,
   "id": "11e64dd2",
   "metadata": {},
   "outputs": [
    {
     "data": {
      "text/plain": [
       "batter\n",
       "SP Narine          166.250\n",
       "PP Shaw            143.456\n",
       "JM Bairstow        142.710\n",
       "YK Pathan          141.016\n",
       "E Lewis            140.940\n",
       "CA Lynn            140.868\n",
       "JC Buttler         139.456\n",
       "RA Tripathi        137.633\n",
       "V Sehwag           137.328\n",
       "SA Yadav           136.142\n",
       "YBK Jaiswal        134.066\n",
       "DA Warner          131.785\n",
       "JD Ryder           131.737\n",
       "KP Pietersen       130.233\n",
       "GJ Maxwell         130.112\n",
       "CH Gayle           129.930\n",
       "WP Saha            129.773\n",
       "Abhishek Sharma    129.004\n",
       "SK Raina           128.926\n",
       "SA Asnodkar        128.704\n",
       "Name: batsman_run, dtype: float64"
      ]
     },
     "execution_count": 79,
     "metadata": {},
     "output_type": "execute_result"
    }
   ],
   "source": [
    "strike_rate = round((runs/balls)*100,3).sort_values(ascending=False)\n",
    "strike_rate.head(20)"
   ]
  },
  {
   "cell_type": "markdown",
   "id": "234d433c",
   "metadata": {},
   "source": [
    "## -- most economical bowler in death overs\n",
    "Economy rate = runs conceeded / overs bowled\n",
    "\n",
    "Example if a bowler has given 35 runs in 3.1 overs\n",
    "so his overs bowled will be calculated as 3+1/6 = 3.1666\n",
    "and Economy rate would be 35/3.166 = 11.054"
   ]
  },
  {
   "cell_type": "code",
   "execution_count": 80,
   "id": "330a5532",
   "metadata": {},
   "outputs": [
    {
     "data": {
      "text/plain": [
       "Index(['ID', 'innings', 'overs', 'ballnumber', 'batter', 'bowler',\n",
       "       'non-striker', 'extra_type', 'batsman_run', 'extras_run', 'total_run',\n",
       "       'non_boundary', 'isWicketDelivery', 'player_out', 'kind',\n",
       "       'fielders_involved', 'BattingTeam'],\n",
       "      dtype='object')"
      ]
     },
     "execution_count": 80,
     "metadata": {},
     "output_type": "execute_result"
    }
   ],
   "source": [
    "delivery.columns\n"
   ]
  },
  {
   "cell_type": "code",
   "execution_count": 81,
   "id": "9257ee3f",
   "metadata": {},
   "outputs": [],
   "source": [
    "df1 = delivery[delivery['overs']>15]\n"
   ]
  },
  {
   "cell_type": "code",
   "execution_count": 82,
   "id": "335d4e16",
   "metadata": {},
   "outputs": [
    {
     "data": {
      "text/plain": [
       "bowler\n",
       "DJ Bravo           1463\n",
       "B Kumar            1227\n",
       "JJ Bumrah          1195\n",
       "SL Malinga         1174\n",
       "SP Narine           970\n",
       "                   ... \n",
       "DG Nalkande           1\n",
       "AA Jhunjhunwala       1\n",
       "YBK Jaiswal           1\n",
       "JM Kemp               1\n",
       "Ankit Soni            1\n",
       "Name: total_run, Length: 400, dtype: int64"
      ]
     },
     "execution_count": 82,
     "metadata": {},
     "output_type": "execute_result"
    }
   ],
   "source": [
    "a=df1.groupby('bowler')['total_run'].count() # number of balls bowled by each bowler\n",
    "a.sort_values(ascending=False)"
   ]
  },
  {
   "cell_type": "code",
   "execution_count": 83,
   "id": "578a27ea",
   "metadata": {},
   "outputs": [],
   "source": [
    "b=df1.groupby('bowler')['total_run'].count()>100 #Only need bowlers who bowled more than 100 balls\n"
   ]
  },
  {
   "cell_type": "code",
   "execution_count": 84,
   "id": "28b4177c",
   "metadata": {},
   "outputs": [],
   "source": [
    "bowler=a[b].index.tolist() # storing bowler names in a list\n"
   ]
  },
  {
   "cell_type": "code",
   "execution_count": 85,
   "id": "dc89d0f4",
   "metadata": {},
   "outputs": [],
   "source": [
    "new_df=delivery[delivery['bowler'].isin(bowler)]\n"
   ]
  },
  {
   "cell_type": "code",
   "execution_count": 86,
   "id": "f7afddc7",
   "metadata": {},
   "outputs": [
    {
     "data": {
      "text/plain": [
       "(172580, 17)"
      ]
     },
     "execution_count": 86,
     "metadata": {},
     "output_type": "execute_result"
    }
   ],
   "source": [
    "new_df.shape\n"
   ]
  },
  {
   "cell_type": "code",
   "execution_count": 87,
   "id": "c4beacbc",
   "metadata": {},
   "outputs": [],
   "source": [
    "run=new_df.groupby('bowler')['total_run'].sum()\n",
    "\n",
    "balls=new_df.groupby('bowler')['total_run'].count()\n",
    "\n"
   ]
  },
  {
   "cell_type": "code",
   "execution_count": 88,
   "id": "63ec1a52",
   "metadata": {},
   "outputs": [
    {
     "data": {
      "text/plain": [
       "bowler\n",
       "A Ashish Reddy     45.000000\n",
       "A Kumble          163.833333\n",
       "A Mishra          552.833333\n",
       "A Nehra           329.000000\n",
       "A Nortje          117.666667\n",
       "                     ...    \n",
       "VRV Singh          61.833333\n",
       "WD Parnell        100.166667\n",
       "YS Chahal         490.000000\n",
       "Yuvraj Singh      147.000000\n",
       "Z Khan            379.333333\n",
       "Name: total_run, Length: 133, dtype: float64"
      ]
     },
     "execution_count": 88,
     "metadata": {},
     "output_type": "execute_result"
    }
   ],
   "source": [
    "balls=balls/6\n",
    "balls"
   ]
  },
  {
   "cell_type": "code",
   "execution_count": 89,
   "id": "aa822c50",
   "metadata": {},
   "outputs": [],
   "source": [
    "economy = round(run/balls,3).sort_values().head(20)"
   ]
  },
  {
   "cell_type": "code",
   "execution_count": 90,
   "id": "c7a3d99a",
   "metadata": {},
   "outputs": [
    {
     "data": {
      "text/plain": [
       "bowler\n",
       "Sohail Tanvir      6.226\n",
       "Rashid Khan        6.481\n",
       "A Kumble           6.647\n",
       "SP Narine          6.667\n",
       "M Muralitharan     6.698\n",
       "DW Steyn           6.791\n",
       "DL Vettori         6.833\n",
       "R Ashwin           6.853\n",
       "J Botha            6.922\n",
       "SL Malinga         7.033\n",
       "Harbhajan Singh    7.038\n",
       "JC Archer          7.049\n",
       "R Sharma           7.059\n",
       "DP Nannes          7.097\n",
       "MA Starc           7.108\n",
       "Iqbal Abdulla      7.158\n",
       "DE Bollinger       7.160\n",
       "CV Varun           7.173\n",
       "KH Pandya          7.186\n",
       "SK Warne           7.187\n",
       "Name: total_run, dtype: float64"
      ]
     },
     "execution_count": 90,
     "metadata": {},
     "output_type": "execute_result"
    }
   ],
   "source": [
    "economy"
   ]
  },
  {
   "cell_type": "markdown",
   "id": "50b37f07",
   "metadata": {},
   "source": [
    "## -- most economical bowler in powerplay"
   ]
  },
  {
   "cell_type": "code",
   "execution_count": 91,
   "id": "a6a448d9",
   "metadata": {},
   "outputs": [],
   "source": [
    "df2 = delivery[delivery['overs'] <= 6]\n"
   ]
  },
  {
   "cell_type": "code",
   "execution_count": 92,
   "id": "a236da16",
   "metadata": {},
   "outputs": [],
   "source": [
    "a=df2.groupby('bowler')['total_run'].count() # number of balls bowled by each bowler\n",
    "a.sort_values(ascending=False)\n",
    "b=df2.groupby('bowler')['total_run'].count()>100 # Only need bowlers who bowled more than 100 balls"
   ]
  },
  {
   "cell_type": "code",
   "execution_count": 93,
   "id": "3be4afef",
   "metadata": {},
   "outputs": [],
   "source": [
    "bowler=a[b].index.tolist() # storing bowler names in a list\n"
   ]
  },
  {
   "cell_type": "code",
   "execution_count": 94,
   "id": "64379473",
   "metadata": {},
   "outputs": [],
   "source": [
    "new_df=delivery[delivery['bowler'].isin(bowler)]"
   ]
  },
  {
   "cell_type": "code",
   "execution_count": 95,
   "id": "063b6302",
   "metadata": {},
   "outputs": [
    {
     "data": {
      "text/plain": [
       "(173986, 17)"
      ]
     },
     "execution_count": 95,
     "metadata": {},
     "output_type": "execute_result"
    }
   ],
   "source": [
    "new_df.shape"
   ]
  },
  {
   "cell_type": "code",
   "execution_count": 96,
   "id": "8550e942",
   "metadata": {},
   "outputs": [],
   "source": [
    "run=new_df.groupby('bowler')['total_run'].sum()\n",
    "\n",
    "balls=new_df.groupby('bowler')['total_run'].count()"
   ]
  },
  {
   "cell_type": "code",
   "execution_count": 97,
   "id": "23d76456",
   "metadata": {},
   "outputs": [
    {
     "data": {
      "text/plain": [
       "bowler\n",
       "A Chandila            39.000000\n",
       "A Kumble             163.833333\n",
       "A Mishra             552.833333\n",
       "A Nehra              329.000000\n",
       "A Nortje             117.666667\n",
       "                        ...    \n",
       "WPUJC Vaas            48.000000\n",
       "Washington Sundar    154.666667\n",
       "YK Pathan            197.333333\n",
       "YS Chahal            490.000000\n",
       "Z Khan               379.333333\n",
       "Name: total_run, Length: 156, dtype: float64"
      ]
     },
     "execution_count": 97,
     "metadata": {},
     "output_type": "execute_result"
    }
   ],
   "source": [
    "balls=balls/6\n",
    "balls"
   ]
  },
  {
   "cell_type": "code",
   "execution_count": 98,
   "id": "f4d7ff03",
   "metadata": {},
   "outputs": [
    {
     "data": {
      "text/plain": [
       "bowler\n",
       "Mohsin Khan        5.883\n",
       "Sohail Tanvir      6.226\n",
       "A Chandila         6.282\n",
       "Rashid Khan        6.481\n",
       "SMSM Senanayake    6.492\n",
       "SM Pollock         6.579\n",
       "A Kumble           6.647\n",
       "SP Narine          6.667\n",
       "GD McGrath         6.675\n",
       "M Muralitharan     6.698\n",
       "J Yadav            6.754\n",
       "DW Steyn           6.791\n",
       "R Ashwin           6.853\n",
       "R Rampaul          6.885\n",
       "J Botha            6.922\n",
       "SL Malinga         7.033\n",
       "Harbhajan Singh    7.038\n",
       "JC Archer          7.049\n",
       "AD Mascarenhas     7.065\n",
       "DP Nannes          7.097\n",
       "Name: total_run, dtype: float64"
      ]
     },
     "execution_count": 98,
     "metadata": {},
     "output_type": "execute_result"
    }
   ],
   "source": [
    "economy = round(run/balls,3).sort_values().head(20)\n",
    "economy"
   ]
  },
  {
   "cell_type": "code",
   "execution_count": 99,
   "id": "cf5971d6",
   "metadata": {},
   "outputs": [],
   "source": [
    "def most_sixes(batter):\n",
    "    most_sixes = df[(df['batsman_run']==6) & (df['batter']==batter)]\n",
    "    return most_sixes.groupby('Season').count()['batsman_run']"
   ]
  },
  {
   "cell_type": "code",
   "execution_count": 100,
   "id": "5f6cdb6c",
   "metadata": {},
   "outputs": [
    {
     "data": {
      "text/plain": [
       "Season\n",
       "2012    59\n",
       "2013    52\n",
       "2011    44\n",
       "2015    38\n",
       "2019    34\n",
       "2018    27\n",
       "2020    24\n",
       "2016    21\n",
       "2010    16\n",
       "2017    14\n",
       "2014    12\n",
       "2009    10\n",
       "2021     8\n",
       "Name: batsman_run, dtype: int64"
      ]
     },
     "execution_count": 100,
     "metadata": {},
     "output_type": "execute_result"
    }
   ],
   "source": [
    "most_sixes('CH Gayle').sort_values(ascending=False)"
   ]
  }
 ],
 "metadata": {
  "kernelspec": {
   "display_name": "Python 3 (ipykernel)",
   "language": "python",
   "name": "python3"
  },
  "language_info": {
   "codemirror_mode": {
    "name": "ipython",
    "version": 3
   },
   "file_extension": ".py",
   "mimetype": "text/x-python",
   "name": "python",
   "nbconvert_exporter": "python",
   "pygments_lexer": "ipython3",
   "version": "3.9.13"
  }
 },
 "nbformat": 4,
 "nbformat_minor": 5
}
